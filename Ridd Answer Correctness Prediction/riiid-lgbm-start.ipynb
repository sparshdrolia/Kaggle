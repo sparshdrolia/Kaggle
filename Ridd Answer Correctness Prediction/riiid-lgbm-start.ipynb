{
 "cells": [
  {
   "cell_type": "code",
   "execution_count": 1,
   "metadata": {
    "execution": {
     "iopub.execute_input": "2020-10-10T14:46:20.410218Z",
     "iopub.status.busy": "2020-10-10T14:46:20.409378Z",
     "iopub.status.idle": "2020-10-10T14:46:22.036367Z",
     "shell.execute_reply": "2020-10-10T14:46:22.035308Z"
    },
    "papermill": {
     "duration": 1.647105,
     "end_time": "2020-10-10T14:46:22.036507",
     "exception": false,
     "start_time": "2020-10-10T14:46:20.389402",
     "status": "completed"
    },
    "tags": []
   },
   "outputs": [],
   "source": [
    "# Used most of coding from this kernel https://www.kaggle.com/lgreig/simple-lgbm-baseline\n",
    "\n",
    "import riiideducation\n",
    "import dask.dataframe as dd\n",
    "import  pandas as pd\n",
    "import numpy as np\n",
    "from sklearn.metrics import roc_auc_score\n",
    "\n",
    "env = riiideducation.make_env()\n"
   ]
  },
  {
   "cell_type": "markdown",
   "metadata": {
    "papermill": {
     "duration": 0.01369,
     "end_time": "2020-10-10T14:46:22.064217",
     "exception": false,
     "start_time": "2020-10-10T14:46:22.050527",
     "status": "completed"
    },
    "tags": []
   },
   "source": [
    "# train.csv\n",
    "\n",
    "row_id: (int64) ID code for the row.\n",
    "\n",
    "timestamp: (int64) the time between this user interaction and the first event completion from that user.\n",
    "\n",
    "user_id: (int32) ID code for the user.\n",
    "\n",
    "content_id: (int16) ID code for the user interaction\n",
    "\n",
    "content_type_id: (int8) 0 if the event was a question being posed to the user, 1 if the event was the user watching a lecture.\n",
    "\n",
    "task_container_id: (int16) Id code for the batch of questions or lectures. For example, a user might see three questions in a row before seeing the explanations for any of them. Those three would all share a task_container_id.\n",
    "\n",
    "user_answer: (int8) the user's answer to the question, if any. Read -1 as null, for lectures.\n",
    "\n",
    "answered_correctly: (int8) if the user responded correctly. Read -1 as null, for lectures.\n",
    "\n",
    "prior_question_elapsed_time: (float32) The average time it took a user to answer each question in the previous question bundle, ignoring any lectures in between. Is null for a user's first question bundle or lecture. Note that the time is the average time a user took to solve each question in the previous bundle.\n",
    "\n",
    "prior_question_had_explanation: (bool) Whether or not the user saw an explanation and the correct response(s) after answering the previous question bundle, ignoring any lectures in between. The value is shared across a single question bundle, and is null for a user's first question bundle or lecture. Typically the first several questions a user sees were part of an onboarding diagnostic test where they did not get any feedback."
   ]
  },
  {
   "cell_type": "code",
   "execution_count": 2,
   "metadata": {
    "_cell_guid": "b1076dfc-b9ad-4769-8c92-a6c4dae69d19",
    "_uuid": "8f2839f25d086af736a60e9eeb907d3b93b6e0e5",
    "execution": {
     "iopub.execute_input": "2020-10-10T14:46:22.108545Z",
     "iopub.status.busy": "2020-10-10T14:46:22.100009Z",
     "iopub.status.idle": "2020-10-10T14:52:07.317268Z",
     "shell.execute_reply": "2020-10-10T14:52:07.316518Z"
    },
    "papermill": {
     "duration": 345.238905,
     "end_time": "2020-10-10T14:52:07.317410",
     "exception": false,
     "start_time": "2020-10-10T14:46:22.078505",
     "status": "completed"
    },
    "tags": []
   },
   "outputs": [],
   "source": [
    "#no need for row_id, task_container_id, user_answer\n",
    "train= pd.read_csv('/kaggle/input/riiid-test-answer-prediction/train.csv',\n",
    "                usecols=[1, 2, 3,4,7,8,9], dtype={'timestamp': 'int64', 'user_id': 'int32' ,'content_id': 'int16','content_type_id': 'int8','answered_correctly':'int8','prior_question_elapsed_time': 'float32','prior_question_had_explanation': 'boolean'}\n",
    "              )\n",
    "\n",
    "# take only questions\n",
    "train = train[train.content_type_id == False]\n",
    "\n",
    "# arrange by timestamp\n",
    "train = train.sort_values(['timestamp'], ascending=True)\n",
    "\n",
    "#used up both of them above\n",
    "train.drop(['timestamp','content_type_id'], axis=1,   inplace=True)\n",
    "\n",
    "#groupby only keeps uique values of the column, here we are doing mean of the multiple values\n",
    "results_c = train[['content_id','answered_correctly']].groupby(['content_id']).agg(['mean'])\n",
    "results_c.columns = [\"answered_correctly_content\"]\n",
    "\n",
    "#mean of correct answers, sum of total answers correct\n",
    "results_u = train[['user_id','answered_correctly']].groupby(['user_id']).agg(['mean', 'sum'])\n",
    "results_u.columns = [\"answered_correctly_user\", 'sum']"
   ]
  },
  {
   "cell_type": "code",
   "execution_count": 3,
   "metadata": {
    "execution": {
     "iopub.execute_input": "2020-10-10T14:52:07.356590Z",
     "iopub.status.busy": "2020-10-10T14:52:07.355760Z",
     "iopub.status.idle": "2020-10-10T14:52:07.361393Z",
     "shell.execute_reply": "2020-10-10T14:52:07.360312Z"
    },
    "papermill": {
     "duration": 0.030386,
     "end_time": "2020-10-10T14:52:07.361578",
     "exception": false,
     "start_time": "2020-10-10T14:52:07.331192",
     "status": "completed"
    },
    "tags": []
   },
   "outputs": [
    {
     "name": "stdout",
     "output_type": "stream",
     "text": [
      "results_c shape =  (13523, 1)\n",
      "            answered_correctly_content\n",
      "content_id                            \n",
      "0                             0.907721\n",
      "1                             0.890646\n",
      "2                             0.554281\n",
      "3                             0.779437\n",
      "4                             0.613215 \n",
      "\n",
      "\n",
      "\n",
      "results_u shape =  (393656, 2)\n",
      "         answered_correctly_user   sum\n",
      "user_id                               \n",
      "115                     0.695652  32.0\n",
      "124                     0.233333   7.0\n",
      "2746                    0.578947  11.0\n",
      "5382                    0.672000  84.0\n",
      "8623                    0.642202  70.0\n"
     ]
    }
   ],
   "source": [
    "print(\"results_c shape = \",results_c.shape)\n",
    "print(results_c.head(),\"\\n\\n\\n\")\n",
    "print(\"results_u shape = \",results_u.shape)\n",
    "print(results_u.head())"
   ]
  },
  {
   "cell_type": "code",
   "execution_count": 4,
   "metadata": {
    "execution": {
     "iopub.execute_input": "2020-10-10T14:52:07.397030Z",
     "iopub.status.busy": "2020-10-10T14:52:07.396170Z",
     "iopub.status.idle": "2020-10-10T14:52:07.399441Z",
     "shell.execute_reply": "2020-10-10T14:52:07.400170Z"
    },
    "papermill": {
     "duration": 0.023437,
     "end_time": "2020-10-10T14:52:07.400338",
     "exception": false,
     "start_time": "2020-10-10T14:52:07.376901",
     "status": "completed"
    },
    "tags": []
   },
   "outputs": [
    {
     "name": "stdout",
     "output_type": "stream",
     "text": [
      "(99271300, 5)\n"
     ]
    }
   ],
   "source": [
    "print(train.shape)"
   ]
  },
  {
   "cell_type": "code",
   "execution_count": 5,
   "metadata": {
    "_cell_guid": "79c7e3d0-c299-4dcb-8224-4455121ee9b0",
    "_uuid": "d629ff2d2480ee46fbb7e2d37f6b5fab8052498a",
    "execution": {
     "iopub.execute_input": "2020-10-10T14:52:07.438562Z",
     "iopub.status.busy": "2020-10-10T14:52:07.437753Z",
     "iopub.status.idle": "2020-10-10T14:52:13.165511Z",
     "shell.execute_reply": "2020-10-10T14:52:13.164787Z"
    },
    "papermill": {
     "duration": 5.751184,
     "end_time": "2020-10-10T14:52:13.165666",
     "exception": false,
     "start_time": "2020-10-10T14:52:07.414482",
     "status": "completed"
    },
    "tags": []
   },
   "outputs": [],
   "source": [
    "X = train.iloc[90000000:,:]  #using partial dataset\n",
    "X = pd.merge(X, results_u, on=['user_id'], how=\"left\")#left outer join \n",
    "X = pd.merge(X, results_c, on=['content_id'], how=\"left\")#left outer join\n",
    "X = X[X.answered_correctly!= -1 ]  #-1 is null for lectures\n",
    "X = X.sort_values(['user_id'], ascending=True)\n",
    "Y = X[[\"answered_correctly\"]] \n",
    "X = X.drop([\"answered_correctly\"], axis=1)"
   ]
  },
  {
   "cell_type": "code",
   "execution_count": 6,
   "metadata": {
    "execution": {
     "iopub.execute_input": "2020-10-10T14:52:13.207264Z",
     "iopub.status.busy": "2020-10-10T14:52:13.206453Z",
     "iopub.status.idle": "2020-10-10T14:52:13.218043Z",
     "shell.execute_reply": "2020-10-10T14:52:13.218626Z"
    },
    "papermill": {
     "duration": 0.038797,
     "end_time": "2020-10-10T14:52:13.218970",
     "exception": false,
     "start_time": "2020-10-10T14:52:13.180173",
     "status": "completed"
    },
    "tags": []
   },
   "outputs": [
    {
     "data": {
      "text/html": [
       "<div>\n",
       "<style scoped>\n",
       "    .dataframe tbody tr th:only-of-type {\n",
       "        vertical-align: middle;\n",
       "    }\n",
       "\n",
       "    .dataframe tbody tr th {\n",
       "        vertical-align: top;\n",
       "    }\n",
       "\n",
       "    .dataframe thead th {\n",
       "        text-align: right;\n",
       "    }\n",
       "</style>\n",
       "<table border=\"1\" class=\"dataframe\">\n",
       "  <thead>\n",
       "    <tr style=\"text-align: right;\">\n",
       "      <th></th>\n",
       "      <th>user_id</th>\n",
       "      <th>content_id</th>\n",
       "      <th>prior_question_elapsed_time</th>\n",
       "      <th>prior_question_had_explanation</th>\n",
       "      <th>answered_correctly_user</th>\n",
       "      <th>sum</th>\n",
       "      <th>answered_correctly_content</th>\n",
       "    </tr>\n",
       "  </thead>\n",
       "  <tbody>\n",
       "    <tr>\n",
       "      <th>1119023</th>\n",
       "      <td>138650</td>\n",
       "      <td>4931</td>\n",
       "      <td>16000.0</td>\n",
       "      <td>True</td>\n",
       "      <td>0.713628</td>\n",
       "      <td>775.0</td>\n",
       "      <td>0.426790</td>\n",
       "    </tr>\n",
       "    <tr>\n",
       "      <th>1119056</th>\n",
       "      <td>138650</td>\n",
       "      <td>9113</td>\n",
       "      <td>22000.0</td>\n",
       "      <td>True</td>\n",
       "      <td>0.713628</td>\n",
       "      <td>775.0</td>\n",
       "      <td>0.430757</td>\n",
       "    </tr>\n",
       "    <tr>\n",
       "      <th>1119070</th>\n",
       "      <td>138650</td>\n",
       "      <td>4079</td>\n",
       "      <td>27000.0</td>\n",
       "      <td>True</td>\n",
       "      <td>0.713628</td>\n",
       "      <td>775.0</td>\n",
       "      <td>0.421442</td>\n",
       "    </tr>\n",
       "    <tr>\n",
       "      <th>1119081</th>\n",
       "      <td>138650</td>\n",
       "      <td>5000</td>\n",
       "      <td>14000.0</td>\n",
       "      <td>True</td>\n",
       "      <td>0.713628</td>\n",
       "      <td>775.0</td>\n",
       "      <td>0.469838</td>\n",
       "    </tr>\n",
       "    <tr>\n",
       "      <th>1119089</th>\n",
       "      <td>138650</td>\n",
       "      <td>3609</td>\n",
       "      <td>8000.0</td>\n",
       "      <td>True</td>\n",
       "      <td>0.713628</td>\n",
       "      <td>775.0</td>\n",
       "      <td>0.752486</td>\n",
       "    </tr>\n",
       "  </tbody>\n",
       "</table>\n",
       "</div>"
      ],
      "text/plain": [
       "         user_id  content_id  prior_question_elapsed_time  \\\n",
       "1119023   138650        4931                      16000.0   \n",
       "1119056   138650        9113                      22000.0   \n",
       "1119070   138650        4079                      27000.0   \n",
       "1119081   138650        5000                      14000.0   \n",
       "1119089   138650        3609                       8000.0   \n",
       "\n",
       "         prior_question_had_explanation  answered_correctly_user    sum  \\\n",
       "1119023                            True                 0.713628  775.0   \n",
       "1119056                            True                 0.713628  775.0   \n",
       "1119070                            True                 0.713628  775.0   \n",
       "1119081                            True                 0.713628  775.0   \n",
       "1119089                            True                 0.713628  775.0   \n",
       "\n",
       "         answered_correctly_content  \n",
       "1119023                    0.426790  \n",
       "1119056                    0.430757  \n",
       "1119070                    0.421442  \n",
       "1119081                    0.469838  \n",
       "1119089                    0.752486  "
      ]
     },
     "execution_count": 6,
     "metadata": {},
     "output_type": "execute_result"
    }
   ],
   "source": [
    "X.head()"
   ]
  },
  {
   "cell_type": "code",
   "execution_count": 7,
   "metadata": {
    "execution": {
     "iopub.execute_input": "2020-10-10T14:52:13.258142Z",
     "iopub.status.busy": "2020-10-10T14:52:13.257352Z",
     "iopub.status.idle": "2020-10-10T14:52:16.949615Z",
     "shell.execute_reply": "2020-10-10T14:52:16.948499Z"
    },
    "papermill": {
     "duration": 3.714495,
     "end_time": "2020-10-10T14:52:16.949847",
     "exception": false,
     "start_time": "2020-10-10T14:52:13.235352",
     "status": "completed"
    },
    "tags": []
   },
   "outputs": [
    {
     "data": {
      "text/html": [
       "<div>\n",
       "<style scoped>\n",
       "    .dataframe tbody tr th:only-of-type {\n",
       "        vertical-align: middle;\n",
       "    }\n",
       "\n",
       "    .dataframe tbody tr th {\n",
       "        vertical-align: top;\n",
       "    }\n",
       "\n",
       "    .dataframe thead th {\n",
       "        text-align: right;\n",
       "    }\n",
       "</style>\n",
       "<table border=\"1\" class=\"dataframe\">\n",
       "  <thead>\n",
       "    <tr style=\"text-align: right;\">\n",
       "      <th></th>\n",
       "      <th>answered_correctly_user</th>\n",
       "      <th>answered_correctly_content</th>\n",
       "      <th>sum</th>\n",
       "      <th>prior_question_elapsed_time</th>\n",
       "      <th>prior_question_had_explanation_enc</th>\n",
       "    </tr>\n",
       "  </thead>\n",
       "  <tbody>\n",
       "    <tr>\n",
       "      <th>1119023</th>\n",
       "      <td>0.713628</td>\n",
       "      <td>0.426790</td>\n",
       "      <td>775.0</td>\n",
       "      <td>16000.0</td>\n",
       "      <td>1</td>\n",
       "    </tr>\n",
       "    <tr>\n",
       "      <th>1119056</th>\n",
       "      <td>0.713628</td>\n",
       "      <td>0.430757</td>\n",
       "      <td>775.0</td>\n",
       "      <td>22000.0</td>\n",
       "      <td>1</td>\n",
       "    </tr>\n",
       "    <tr>\n",
       "      <th>1119070</th>\n",
       "      <td>0.713628</td>\n",
       "      <td>0.421442</td>\n",
       "      <td>775.0</td>\n",
       "      <td>27000.0</td>\n",
       "      <td>1</td>\n",
       "    </tr>\n",
       "    <tr>\n",
       "      <th>1119081</th>\n",
       "      <td>0.713628</td>\n",
       "      <td>0.469838</td>\n",
       "      <td>775.0</td>\n",
       "      <td>14000.0</td>\n",
       "      <td>1</td>\n",
       "    </tr>\n",
       "    <tr>\n",
       "      <th>1119089</th>\n",
       "      <td>0.713628</td>\n",
       "      <td>0.752486</td>\n",
       "      <td>775.0</td>\n",
       "      <td>8000.0</td>\n",
       "      <td>1</td>\n",
       "    </tr>\n",
       "  </tbody>\n",
       "</table>\n",
       "</div>"
      ],
      "text/plain": [
       "         answered_correctly_user  answered_correctly_content    sum  \\\n",
       "1119023                 0.713628                    0.426790  775.0   \n",
       "1119056                 0.713628                    0.430757  775.0   \n",
       "1119070                 0.713628                    0.421442  775.0   \n",
       "1119081                 0.713628                    0.469838  775.0   \n",
       "1119089                 0.713628                    0.752486  775.0   \n",
       "\n",
       "         prior_question_elapsed_time  prior_question_had_explanation_enc  \n",
       "1119023                      16000.0                                   1  \n",
       "1119056                      22000.0                                   1  \n",
       "1119070                      27000.0                                   1  \n",
       "1119081                      14000.0                                   1  \n",
       "1119089                       8000.0                                   1  "
      ]
     },
     "execution_count": 7,
     "metadata": {},
     "output_type": "execute_result"
    }
   ],
   "source": [
    "from sklearn.preprocessing import LabelEncoder\n",
    "\n",
    "lb_make = LabelEncoder()\n",
    "\n",
    "X[\"prior_question_had_explanation_enc\"] = lb_make.fit_transform(X[\"prior_question_had_explanation\"])\n",
    "\n",
    "# X = X.drop([\"prior_question_had_explanation\"], axis=1)   #converted to binary so no use\n",
    "# X = X.drop([\"content_id\"], axis=1) #could have retained but lets not\n",
    "# X = X.drop([\"user_id\"], axis=1)   #same as sum pratically, think!\n",
    "#cant use drop because oeder needs to be uniform\n",
    "\n",
    "X = X[['answered_correctly_user', 'answered_correctly_content', 'sum','prior_question_elapsed_time','prior_question_had_explanation_enc']] \n",
    "\n",
    "X.head()\n"
   ]
  },
  {
   "cell_type": "code",
   "execution_count": 8,
   "metadata": {
    "execution": {
     "iopub.execute_input": "2020-10-10T14:52:16.990734Z",
     "iopub.status.busy": "2020-10-10T14:52:16.989870Z",
     "iopub.status.idle": "2020-10-10T14:52:17.175742Z",
     "shell.execute_reply": "2020-10-10T14:52:17.175040Z"
    },
    "papermill": {
     "duration": 0.20846,
     "end_time": "2020-10-10T14:52:17.175872",
     "exception": false,
     "start_time": "2020-10-10T14:52:16.967412",
     "status": "completed"
    },
    "tags": []
   },
   "outputs": [
    {
     "name": "stdout",
     "output_type": "stream",
     "text": [
      "Before :  False\n",
      "After  :  False\n"
     ]
    }
   ],
   "source": [
    "print(\"Before : \", X.isnull().values.any())\n",
    "X.fillna(0.5,  inplace=True)\n",
    "print(\"After  : \", X.isnull().values.any())"
   ]
  },
  {
   "cell_type": "code",
   "execution_count": 9,
   "metadata": {
    "execution": {
     "iopub.execute_input": "2020-10-10T14:52:17.218928Z",
     "iopub.status.busy": "2020-10-10T14:52:17.218123Z",
     "iopub.status.idle": "2020-10-10T14:53:16.922420Z",
     "shell.execute_reply": "2020-10-10T14:53:16.923374Z"
    },
    "papermill": {
     "duration": 59.731171,
     "end_time": "2020-10-10T14:53:16.923571",
     "exception": false,
     "start_time": "2020-10-10T14:52:17.192400",
     "status": "completed"
    },
    "tags": []
   },
   "outputs": [
    {
     "name": "stdout",
     "output_type": "stream",
     "text": [
      "Training until validation scores don't improve for 10 rounds\n",
      "[10]\ttraining's binary_logloss: 0.547892\tvalid_1's binary_logloss: 0.54318\n",
      "[20]\ttraining's binary_logloss: 0.534266\tvalid_1's binary_logloss: 0.529325\n",
      "[30]\ttraining's binary_logloss: 0.531477\tvalid_1's binary_logloss: 0.526592\n",
      "[40]\ttraining's binary_logloss: 0.530687\tvalid_1's binary_logloss: 0.525992\n",
      "[50]\ttraining's binary_logloss: 0.53029\tvalid_1's binary_logloss: 0.52585\n",
      "[60]\ttraining's binary_logloss: 0.529982\tvalid_1's binary_logloss: 0.525783\n",
      "Early stopping, best iteration is:\n",
      "[58]\ttraining's binary_logloss: 0.530051\tvalid_1's binary_logloss: 0.52578\n"
     ]
    }
   ],
   "source": [
    "\n",
    "from  sklearn.tree import DecisionTreeClassifier\n",
    "from  sklearn.model_selection import train_test_split\n",
    "import lightgbm as lgb\n",
    "\n",
    "X_train, X_val, Y_train, Y_val = train_test_split(X, Y, test_size =0.05, shuffle=False)\n",
    "\n",
    "params = {\n",
    "    'objective': 'binary',\n",
    "    'max_bin': 600,\n",
    "    'learning_rate': 0.1,\n",
    "    'num_leaves': 80\n",
    "}\n",
    "\n",
    "\n",
    "lgb_train = lgb.Dataset(X_train, Y_train)\n",
    "lgb_eval = lgb.Dataset(X_val, Y_val, reference=lgb_train)\n",
    "\n",
    "model = lgb.train(\n",
    "    params, lgb_train,\n",
    "    valid_sets=[lgb_train, lgb_eval],\n",
    "    verbose_eval=10,\n",
    "    num_boost_round=100000,\n",
    "    early_stopping_rounds=10\n",
    ")"
   ]
  },
  {
   "cell_type": "code",
   "execution_count": 10,
   "metadata": {
    "execution": {
     "iopub.execute_input": "2020-10-10T14:53:16.978901Z",
     "iopub.status.busy": "2020-10-10T14:53:16.977994Z",
     "iopub.status.idle": "2020-10-10T14:53:17.881575Z",
     "shell.execute_reply": "2020-10-10T14:53:17.880847Z"
    },
    "papermill": {
     "duration": 0.933327,
     "end_time": "2020-10-10T14:53:17.881727",
     "exception": false,
     "start_time": "2020-10-10T14:53:16.948400",
     "status": "completed"
    },
    "tags": []
   },
   "outputs": [
    {
     "data": {
      "text/plain": [
       "0.7596138747797274"
      ]
     },
     "execution_count": 10,
     "metadata": {},
     "output_type": "execute_result"
    }
   ],
   "source": [
    "y_pred = model.predict(X_val)\n",
    "y_true = np.array(Y_val)\n",
    "roc_auc_score(y_true, y_pred)"
   ]
  },
  {
   "cell_type": "code",
   "execution_count": 11,
   "metadata": {
    "execution": {
     "iopub.execute_input": "2020-10-10T14:53:17.930751Z",
     "iopub.status.busy": "2020-10-10T14:53:17.929989Z",
     "iopub.status.idle": "2020-10-10T14:53:17.951370Z",
     "shell.execute_reply": "2020-10-10T14:53:17.950592Z"
    },
    "papermill": {
     "duration": 0.049189,
     "end_time": "2020-10-10T14:53:17.951498",
     "exception": false,
     "start_time": "2020-10-10T14:53:17.902309",
     "status": "completed"
    },
    "tags": []
   },
   "outputs": [
    {
     "data": {
      "text/html": [
       "<div>\n",
       "<style scoped>\n",
       "    .dataframe tbody tr th:only-of-type {\n",
       "        vertical-align: middle;\n",
       "    }\n",
       "\n",
       "    .dataframe tbody tr th {\n",
       "        vertical-align: top;\n",
       "    }\n",
       "\n",
       "    .dataframe thead th {\n",
       "        text-align: right;\n",
       "    }\n",
       "</style>\n",
       "<table border=\"1\" class=\"dataframe\">\n",
       "  <thead>\n",
       "    <tr style=\"text-align: right;\">\n",
       "      <th></th>\n",
       "      <th>row_id</th>\n",
       "      <th>group_num</th>\n",
       "      <th>timestamp</th>\n",
       "      <th>user_id</th>\n",
       "      <th>content_id</th>\n",
       "      <th>content_type_id</th>\n",
       "      <th>task_container_id</th>\n",
       "      <th>prior_question_elapsed_time</th>\n",
       "      <th>prior_question_had_explanation</th>\n",
       "      <th>prior_group_answers_correct</th>\n",
       "      <th>prior_group_responses</th>\n",
       "    </tr>\n",
       "  </thead>\n",
       "  <tbody>\n",
       "    <tr>\n",
       "      <th>0</th>\n",
       "      <td>0</td>\n",
       "      <td>0</td>\n",
       "      <td>0</td>\n",
       "      <td>275030867</td>\n",
       "      <td>5729</td>\n",
       "      <td>0</td>\n",
       "      <td>0</td>\n",
       "      <td>NaN</td>\n",
       "      <td>NaN</td>\n",
       "      <td>[]</td>\n",
       "      <td>[]</td>\n",
       "    </tr>\n",
       "    <tr>\n",
       "      <th>1</th>\n",
       "      <td>1</td>\n",
       "      <td>0</td>\n",
       "      <td>13309898705</td>\n",
       "      <td>554169193</td>\n",
       "      <td>12010</td>\n",
       "      <td>0</td>\n",
       "      <td>4427</td>\n",
       "      <td>19000.0</td>\n",
       "      <td>True</td>\n",
       "      <td>NaN</td>\n",
       "      <td>NaN</td>\n",
       "    </tr>\n",
       "    <tr>\n",
       "      <th>2</th>\n",
       "      <td>2</td>\n",
       "      <td>0</td>\n",
       "      <td>4213672059</td>\n",
       "      <td>1720860329</td>\n",
       "      <td>457</td>\n",
       "      <td>0</td>\n",
       "      <td>240</td>\n",
       "      <td>17000.0</td>\n",
       "      <td>True</td>\n",
       "      <td>NaN</td>\n",
       "      <td>NaN</td>\n",
       "    </tr>\n",
       "    <tr>\n",
       "      <th>3</th>\n",
       "      <td>3</td>\n",
       "      <td>0</td>\n",
       "      <td>62798072960</td>\n",
       "      <td>288641214</td>\n",
       "      <td>13262</td>\n",
       "      <td>0</td>\n",
       "      <td>266</td>\n",
       "      <td>23000.0</td>\n",
       "      <td>True</td>\n",
       "      <td>NaN</td>\n",
       "      <td>NaN</td>\n",
       "    </tr>\n",
       "    <tr>\n",
       "      <th>4</th>\n",
       "      <td>4</td>\n",
       "      <td>0</td>\n",
       "      <td>10585422061</td>\n",
       "      <td>1728340777</td>\n",
       "      <td>6119</td>\n",
       "      <td>0</td>\n",
       "      <td>162</td>\n",
       "      <td>72400.0</td>\n",
       "      <td>True</td>\n",
       "      <td>NaN</td>\n",
       "      <td>NaN</td>\n",
       "    </tr>\n",
       "  </tbody>\n",
       "</table>\n",
       "</div>"
      ],
      "text/plain": [
       "   row_id  group_num    timestamp     user_id  content_id  content_type_id  \\\n",
       "0       0          0            0   275030867        5729                0   \n",
       "1       1          0  13309898705   554169193       12010                0   \n",
       "2       2          0   4213672059  1720860329         457                0   \n",
       "3       3          0  62798072960   288641214       13262                0   \n",
       "4       4          0  10585422061  1728340777        6119                0   \n",
       "\n",
       "   task_container_id  prior_question_elapsed_time  \\\n",
       "0                  0                          NaN   \n",
       "1               4427                      19000.0   \n",
       "2                240                      17000.0   \n",
       "3                266                      23000.0   \n",
       "4                162                      72400.0   \n",
       "\n",
       "  prior_question_had_explanation prior_group_answers_correct  \\\n",
       "0                            NaN                          []   \n",
       "1                           True                         NaN   \n",
       "2                           True                         NaN   \n",
       "3                           True                         NaN   \n",
       "4                           True                         NaN   \n",
       "\n",
       "  prior_group_responses  \n",
       "0                    []  \n",
       "1                   NaN  \n",
       "2                   NaN  \n",
       "3                   NaN  \n",
       "4                   NaN  "
      ]
     },
     "execution_count": 11,
     "metadata": {},
     "output_type": "execute_result"
    }
   ],
   "source": [
    "test =  pd.read_csv('/kaggle/input/riiid-test-answer-prediction/example_test.csv')\n",
    "test.head()"
   ]
  },
  {
   "cell_type": "code",
   "execution_count": 12,
   "metadata": {
    "execution": {
     "iopub.execute_input": "2020-10-10T14:53:18.007424Z",
     "iopub.status.busy": "2020-10-10T14:53:18.003063Z",
     "iopub.status.idle": "2020-10-10T14:53:29.795591Z",
     "shell.execute_reply": "2020-10-10T14:53:29.794726Z"
    },
    "papermill": {
     "duration": 11.822912,
     "end_time": "2020-10-10T14:53:29.795808",
     "exception": false,
     "start_time": "2020-10-10T14:53:17.972896",
     "status": "completed"
    },
    "tags": []
   },
   "outputs": [],
   "source": [
    "test[\"prior_question_had_explanation_enc\"] = lb_make.fit_transform(test[\"prior_question_had_explanation\"])\n",
    "test = pd.merge(test, results_u, on=['user_id'],  how=\"left\")  #niceeeeeeeeeee one\n",
    "test = pd.merge(test, results_c, on=['content_id'],  how=\"left\") #yes you too\n",
    "test[['answered_correctly_user', 'answered_correctly_content', 'sum','prior_question_elapsed_time','prior_question_had_explanation_enc']]\n",
    "test.fillna(0.5, inplace=True)\n",
    "\n",
    "y_pred = model.predict(test[['answered_correctly_user', 'answered_correctly_content', 'sum','prior_question_elapsed_time','prior_question_had_explanation_enc']])\n",
    "\n",
    "test['answered_correctly'] = y_pred\n",
    "\n",
    "results_c = train[['content_id','answered_correctly']].groupby(['content_id']).agg(['mean'])\n",
    "results_c.columns = [\"answered_correctly_content\"]\n",
    "\n",
    "results_u = train[['user_id','answered_correctly']].groupby(['user_id']).agg(['mean', 'sum'])\n",
    "results_u.columns = [\"answered_correctly_user\", 'sum']"
   ]
  },
  {
   "cell_type": "code",
   "execution_count": 13,
   "metadata": {
    "execution": {
     "iopub.execute_input": "2020-10-10T14:53:29.863764Z",
     "iopub.status.busy": "2020-10-10T14:53:29.862582Z",
     "iopub.status.idle": "2020-10-10T14:53:30.537736Z",
     "shell.execute_reply": "2020-10-10T14:53:30.536925Z"
    },
    "papermill": {
     "duration": 0.713761,
     "end_time": "2020-10-10T14:53:30.537879",
     "exception": false,
     "start_time": "2020-10-10T14:53:29.824118",
     "status": "completed"
    },
    "tags": []
   },
   "outputs": [],
   "source": [
    "iter_test = env.iter_test()\n",
    "for (test_df, sample_prediction_df) in iter_test:\n",
    "    test_df = pd.merge(test_df, results_u, on=['user_id'],  how=\"left\")\n",
    "    test_df = pd.merge(test_df, results_c, on=['content_id'],  how=\"left\")\n",
    "    test_df['answered_correctly_user'].fillna(0.5, inplace=True)\n",
    "    test_df['answered_correctly_content'].fillna(0.5, inplace=True)\n",
    "    test_df['sum'].fillna(0, inplace=True)\n",
    "    test_df['prior_question_had_explanation'].fillna(False, inplace=True)\n",
    "    test_df[\"prior_question_had_explanation_enc\"] = lb_make.fit_transform(test_df[\"prior_question_had_explanation\"])\n",
    "    test_df['answered_correctly'] =  model.predict(test_df[['answered_correctly_user', 'answered_correctly_content', 'sum','prior_question_elapsed_time','prior_question_had_explanation_enc']])\n",
    "    env.predict(test_df.loc[test_df['content_type_id'] == 0, ['row_id', 'answered_correctly']])\n",
    "    # df.loc is used to access colums or rows"
   ]
  },
  {
   "cell_type": "code",
   "execution_count": null,
   "metadata": {
    "papermill": {
     "duration": 0.021315,
     "end_time": "2020-10-10T14:53:30.581081",
     "exception": false,
     "start_time": "2020-10-10T14:53:30.559766",
     "status": "completed"
    },
    "tags": []
   },
   "outputs": [],
   "source": []
  }
 ],
 "metadata": {
  "kernelspec": {
   "display_name": "Python 3",
   "language": "python",
   "name": "python3"
  },
  "language_info": {
   "codemirror_mode": {
    "name": "ipython",
    "version": 3
   },
   "file_extension": ".py",
   "mimetype": "text/x-python",
   "name": "python",
   "nbconvert_exporter": "python",
   "pygments_lexer": "ipython3",
   "version": "3.7.6"
  },
  "papermill": {
   "duration": 436.04558,
   "end_time": "2020-10-10T14:53:31.694589",
   "environment_variables": {},
   "exception": null,
   "input_path": "__notebook__.ipynb",
   "output_path": "__notebook__.ipynb",
   "parameters": {},
   "start_time": "2020-10-10T14:46:15.649009",
   "version": "2.1.0"
  }
 },
 "nbformat": 4,
 "nbformat_minor": 4
}
