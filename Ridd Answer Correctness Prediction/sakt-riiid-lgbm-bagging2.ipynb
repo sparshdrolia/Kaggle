{
 "cells": [
  {
   "cell_type": "markdown",
   "metadata": {
    "papermill": {
     "duration": 0.049539,
     "end_time": "2020-12-15T07:46:33.483369",
     "exception": false,
     "start_time": "2020-12-15T07:46:33.433830",
     "status": "completed"
    },
    "tags": []
   },
   "source": [
    "# Combining of Simple and Speedy SAKT with Riiid LGBM bagging2\n",
    "\n",
    "Source Kernels\n",
    "1. SAKT with Randomization & State Updates LB0.771 https://www.kaggle.com/leadbest/sakt-with-randomization-state-updates\n",
    "2. Riiid! LGBM bagging2 LB0.772 https://www.kaggle.com/zephyrwang666/riiid-lgbm-bagging2"
   ]
  },
  {
   "cell_type": "code",
   "execution_count": 1,
   "metadata": {
    "_cell_guid": "b1076dfc-b9ad-4769-8c92-a6c4dae69d19",
    "_uuid": "8f2839f25d086af736a60e9eeb907d3b93b6e0e5",
    "execution": {
     "iopub.execute_input": "2020-12-15T07:46:33.580178Z",
     "iopub.status.busy": "2020-12-15T07:46:33.579473Z",
     "iopub.status.idle": "2020-12-15T07:47:03.937734Z",
     "shell.execute_reply": "2020-12-15T07:47:03.936882Z"
    },
    "papermill": {
     "duration": 30.407158,
     "end_time": "2020-12-15T07:47:03.937863",
     "exception": false,
     "start_time": "2020-12-15T07:46:33.530705",
     "status": "completed"
    },
    "tags": []
   },
   "outputs": [],
   "source": [
    "!pip install ../input/python-datatable/datatable-0.11.0-cp37-cp37m-manylinux2010_x86_64.whl > /dev/null 2>&1"
   ]
  },
  {
   "cell_type": "code",
   "execution_count": 2,
   "metadata": {
    "_cell_guid": "79c7e3d0-c299-4dcb-8224-4455121ee9b0",
    "_uuid": "d629ff2d2480ee46fbb7e2d37f6b5fab8052498a",
    "execution": {
     "iopub.execute_input": "2020-12-15T07:47:04.038479Z",
     "iopub.status.busy": "2020-12-15T07:47:04.037727Z",
     "iopub.status.idle": "2020-12-15T07:47:05.377858Z",
     "shell.execute_reply": "2020-12-15T07:47:05.376535Z"
    },
    "papermill": {
     "duration": 1.393915,
     "end_time": "2020-12-15T07:47:05.378012",
     "exception": false,
     "start_time": "2020-12-15T07:47:03.984097",
     "status": "completed"
    },
    "tags": []
   },
   "outputs": [
    {
     "data": {
      "text/html": [
       "<style type='text/css'>\n",
       ".datatable table.frame { margin-bottom: 0; }\n",
       ".datatable table.frame thead { border-bottom: none; }\n",
       ".datatable table.frame tr.coltypes td {  color: #FFFFFF;  line-height: 6px;  padding: 0 0.5em;}\n",
       ".datatable .bool    { background: #DDDD99; }\n",
       ".datatable .object  { background: #565656; }\n",
       ".datatable .int     { background: #5D9E5D; }\n",
       ".datatable .float   { background: #4040CC; }\n",
       ".datatable .str     { background: #CC4040; }\n",
       ".datatable .row_index {  background: var(--jp-border-color3);  border-right: 1px solid var(--jp-border-color0);  color: var(--jp-ui-font-color3);  font-size: 9px;}\n",
       ".datatable .frame tr.coltypes .row_index {  background: var(--jp-border-color0);}\n",
       ".datatable th:nth-child(2) { padding-left: 12px; }\n",
       ".datatable .hellipsis {  color: var(--jp-cell-editor-border-color);}\n",
       ".datatable .vellipsis {  background: var(--jp-layout-color0);  color: var(--jp-cell-editor-border-color);}\n",
       ".datatable .na {  color: var(--jp-cell-editor-border-color);  font-size: 80%;}\n",
       ".datatable .footer { font-size: 9px; }\n",
       ".datatable .frame_dimensions {  background: var(--jp-border-color3);  border-top: 1px solid var(--jp-border-color0);  color: var(--jp-ui-font-color3);  display: inline-block;  opacity: 0.6;  padding: 1px 10px 1px 5px;}\n",
       ".datatable .frame thead tr.colnames {  background-image: url('data:image/png;base64,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');  background-repeat: repeat-x;  background-size: 14px;  height: 28px;}\n",
       "</style>\n"
      ],
      "text/plain": [
       "<IPython.core.display.HTML object>"
      ]
     },
     "metadata": {},
     "output_type": "display_data"
    }
   ],
   "source": [
    "import numpy as np\n",
    "import pandas as pd\n",
    "import psutil\n",
    "\n",
    "from collections import defaultdict\n",
    "import datatable as dt\n",
    "import lightgbm as lgb\n",
    "from matplotlib import pyplot as plt\n",
    "import riiideducation\n",
    "import random\n",
    "from sklearn.metrics import roc_auc_score\n",
    "import gc\n",
    "\n",
    "_ = np.seterr(divide='ignore', invalid='ignore')"
   ]
  },
  {
   "cell_type": "markdown",
   "metadata": {
    "papermill": {
     "duration": 0.048305,
     "end_time": "2020-12-15T07:47:05.475388",
     "exception": false,
     "start_time": "2020-12-15T07:47:05.427083",
     "status": "completed"
    },
    "tags": []
   },
   "source": [
    "# Preprocess"
   ]
  },
  {
   "cell_type": "code",
   "execution_count": 3,
   "metadata": {
    "execution": {
     "iopub.execute_input": "2020-12-15T07:47:05.575688Z",
     "iopub.status.busy": "2020-12-15T07:47:05.574933Z",
     "iopub.status.idle": "2020-12-15T07:47:05.578622Z",
     "shell.execute_reply": "2020-12-15T07:47:05.579100Z"
    },
    "papermill": {
     "duration": 0.057074,
     "end_time": "2020-12-15T07:47:05.579252",
     "exception": false,
     "start_time": "2020-12-15T07:47:05.522178",
     "status": "completed"
    },
    "tags": []
   },
   "outputs": [],
   "source": [
    "data_types_dict = {\n",
    "    'timestamp': 'int64',\n",
    "    'user_id': 'int32', \n",
    "    'content_id': 'int16', \n",
    "    'content_type_id':'int8', \n",
    "    'task_container_id': 'int16',\n",
    "    #'user_answer': 'int8',\n",
    "    'answered_correctly': 'int8', \n",
    "    'prior_question_elapsed_time': 'float32', \n",
    "    'prior_question_had_explanation': 'bool'\n",
    "}\n",
    "target = 'answered_correctly'"
   ]
  },
  {
   "cell_type": "code",
   "execution_count": 4,
   "metadata": {
    "execution": {
     "iopub.execute_input": "2020-12-15T07:47:05.681253Z",
     "iopub.status.busy": "2020-12-15T07:47:05.680166Z",
     "iopub.status.idle": "2020-12-15T07:48:48.987392Z",
     "shell.execute_reply": "2020-12-15T07:48:48.987923Z"
    },
    "papermill": {
     "duration": 103.360943,
     "end_time": "2020-12-15T07:48:48.988102",
     "exception": false,
     "start_time": "2020-12-15T07:47:05.627159",
     "status": "completed"
    },
    "tags": []
   },
   "outputs": [],
   "source": [
    "train_df = dt.fread('../input/riiid-test-answer-prediction/train.csv', columns=set(data_types_dict.keys())).to_pandas()"
   ]
  },
  {
   "cell_type": "code",
   "execution_count": 5,
   "metadata": {
    "execution": {
     "iopub.execute_input": "2020-12-15T07:48:49.107337Z",
     "iopub.status.busy": "2020-12-15T07:48:49.106593Z",
     "iopub.status.idle": "2020-12-15T07:48:49.111879Z",
     "shell.execute_reply": "2020-12-15T07:48:49.111170Z"
    },
    "papermill": {
     "duration": 0.066998,
     "end_time": "2020-12-15T07:48:49.111997",
     "exception": false,
     "start_time": "2020-12-15T07:48:49.044999",
     "status": "completed"
    },
    "tags": []
   },
   "outputs": [
    {
     "name": "stdout",
     "output_type": "stream",
     "text": [
      "27.2\n"
     ]
    }
   ],
   "source": [
    "print(psutil.virtual_memory().percent)"
   ]
  },
  {
   "cell_type": "code",
   "execution_count": 6,
   "metadata": {
    "execution": {
     "iopub.execute_input": "2020-12-15T07:48:49.246795Z",
     "iopub.status.busy": "2020-12-15T07:48:49.246043Z",
     "iopub.status.idle": "2020-12-15T07:48:49.257907Z",
     "shell.execute_reply": "2020-12-15T07:48:49.257137Z"
    },
    "papermill": {
     "duration": 0.078584,
     "end_time": "2020-12-15T07:48:49.258029",
     "exception": false,
     "start_time": "2020-12-15T07:48:49.179445",
     "status": "completed"
    },
    "tags": []
   },
   "outputs": [],
   "source": [
    "#reading in lecture df\n",
    "lectures_df = pd.read_csv('/kaggle/input/riiid-test-answer-prediction/lectures.csv')"
   ]
  },
  {
   "cell_type": "code",
   "execution_count": 7,
   "metadata": {
    "execution": {
     "iopub.execute_input": "2020-12-15T07:48:49.393114Z",
     "iopub.status.busy": "2020-12-15T07:48:49.392394Z",
     "iopub.status.idle": "2020-12-15T07:48:49.396147Z",
     "shell.execute_reply": "2020-12-15T07:48:49.395174Z"
    },
    "papermill": {
     "duration": 0.088822,
     "end_time": "2020-12-15T07:48:49.396293",
     "exception": false,
     "start_time": "2020-12-15T07:48:49.307471",
     "status": "completed"
    },
    "tags": []
   },
   "outputs": [],
   "source": [
    "lectures_df['type_of'] = lectures_df['type_of'].replace('solving question', 'solving_question')\n",
    "\n",
    "lectures_df = pd.get_dummies(lectures_df, columns=['part', 'type_of'])\n",
    "\n",
    "part_lectures_columns = [column for column in lectures_df.columns if column.startswith('part')]\n",
    "\n",
    "types_of_lectures_columns = [column for column in lectures_df.columns if column.startswith('type_of_')]"
   ]
  },
  {
   "cell_type": "code",
   "execution_count": 8,
   "metadata": {
    "execution": {
     "iopub.execute_input": "2020-12-15T07:48:49.502810Z",
     "iopub.status.busy": "2020-12-15T07:48:49.501909Z",
     "iopub.status.idle": "2020-12-15T07:48:50.650697Z",
     "shell.execute_reply": "2020-12-15T07:48:50.650027Z"
    },
    "papermill": {
     "duration": 1.20464,
     "end_time": "2020-12-15T07:48:50.650825",
     "exception": false,
     "start_time": "2020-12-15T07:48:49.446185",
     "status": "completed"
    },
    "tags": []
   },
   "outputs": [],
   "source": [
    "train_lectures = train_df[train_df.content_type_id == True].merge(lectures_df, left_on='content_id', right_on='lecture_id', how='left')"
   ]
  },
  {
   "cell_type": "code",
   "execution_count": 9,
   "metadata": {
    "execution": {
     "iopub.execute_input": "2020-12-15T07:48:50.759086Z",
     "iopub.status.busy": "2020-12-15T07:48:50.757606Z",
     "iopub.status.idle": "2020-12-15T07:48:51.204607Z",
     "shell.execute_reply": "2020-12-15T07:48:51.203903Z"
    },
    "papermill": {
     "duration": 0.504621,
     "end_time": "2020-12-15T07:48:51.204750",
     "exception": false,
     "start_time": "2020-12-15T07:48:50.700129",
     "status": "completed"
    },
    "tags": []
   },
   "outputs": [],
   "source": [
    "user_lecture_stats_part = train_lectures.groupby('user_id',as_index = False)[part_lectures_columns + types_of_lectures_columns].sum()"
   ]
  },
  {
   "cell_type": "code",
   "execution_count": 10,
   "metadata": {
    "execution": {
     "iopub.execute_input": "2020-12-15T07:48:51.313402Z",
     "iopub.status.busy": "2020-12-15T07:48:51.311996Z",
     "iopub.status.idle": "2020-12-15T07:48:51.321878Z",
     "shell.execute_reply": "2020-12-15T07:48:51.321151Z"
    },
    "papermill": {
     "duration": 0.067071,
     "end_time": "2020-12-15T07:48:51.322003",
     "exception": false,
     "start_time": "2020-12-15T07:48:51.254932",
     "status": "completed"
    },
    "tags": []
   },
   "outputs": [],
   "source": [
    "lecturedata_types_dict = {   \n",
    "    'user_id': 'int32', \n",
    "    'part_1': 'int8',\n",
    "    'part_2': 'int8',\n",
    "    'part_3': 'int8',\n",
    "    'part_4': 'int8',\n",
    "    'part_5': 'int8',\n",
    "    'part_6': 'int8',\n",
    "    'part_7': 'int8',\n",
    "    'type_of_concept': 'int8',\n",
    "    'type_of_intention': 'int8',\n",
    "    'type_of_solving_question': 'int8',\n",
    "    'type_of_starter': 'int8'\n",
    "}\n",
    "user_lecture_stats_part = user_lecture_stats_part.astype(lecturedata_types_dict)"
   ]
  },
  {
   "cell_type": "code",
   "execution_count": 11,
   "metadata": {
    "execution": {
     "iopub.execute_input": "2020-12-15T07:48:51.429132Z",
     "iopub.status.busy": "2020-12-15T07:48:51.428380Z",
     "iopub.status.idle": "2020-12-15T07:48:51.438267Z",
     "shell.execute_reply": "2020-12-15T07:48:51.437661Z"
    },
    "papermill": {
     "duration": 0.067179,
     "end_time": "2020-12-15T07:48:51.438426",
     "exception": false,
     "start_time": "2020-12-15T07:48:51.371247",
     "status": "completed"
    },
    "tags": []
   },
   "outputs": [],
   "source": [
    "for column in user_lecture_stats_part.columns:\n",
    "    #bool_column = column + '_boolean'\n",
    "    if(column !='user_id'):\n",
    "        user_lecture_stats_part[column] = (user_lecture_stats_part[column] > 0).astype('int8')"
   ]
  },
  {
   "cell_type": "code",
   "execution_count": 12,
   "metadata": {
    "execution": {
     "iopub.execute_input": "2020-12-15T07:48:51.550175Z",
     "iopub.status.busy": "2020-12-15T07:48:51.549490Z",
     "iopub.status.idle": "2020-12-15T07:48:51.582171Z",
     "shell.execute_reply": "2020-12-15T07:48:51.580901Z"
    },
    "papermill": {
     "duration": 0.092749,
     "end_time": "2020-12-15T07:48:51.582330",
     "exception": false,
     "start_time": "2020-12-15T07:48:51.489581",
     "status": "completed"
    },
    "tags": []
   },
   "outputs": [
    {
     "data": {
      "text/html": [
       "<div>\n",
       "<style scoped>\n",
       "    .dataframe tbody tr th:only-of-type {\n",
       "        vertical-align: middle;\n",
       "    }\n",
       "\n",
       "    .dataframe tbody tr th {\n",
       "        vertical-align: top;\n",
       "    }\n",
       "\n",
       "    .dataframe thead th {\n",
       "        text-align: right;\n",
       "    }\n",
       "</style>\n",
       "<table border=\"1\" class=\"dataframe\">\n",
       "  <thead>\n",
       "    <tr style=\"text-align: right;\">\n",
       "      <th></th>\n",
       "      <th>timestamp</th>\n",
       "      <th>user_id</th>\n",
       "      <th>content_id</th>\n",
       "      <th>content_type_id</th>\n",
       "      <th>task_container_id</th>\n",
       "      <th>answered_correctly</th>\n",
       "      <th>prior_question_elapsed_time</th>\n",
       "      <th>prior_question_had_explanation</th>\n",
       "      <th>lecture_id</th>\n",
       "      <th>tag</th>\n",
       "      <th>...</th>\n",
       "      <th>part_2</th>\n",
       "      <th>part_3</th>\n",
       "      <th>part_4</th>\n",
       "      <th>part_5</th>\n",
       "      <th>part_6</th>\n",
       "      <th>part_7</th>\n",
       "      <th>type_of_concept</th>\n",
       "      <th>type_of_intention</th>\n",
       "      <th>type_of_solving_question</th>\n",
       "      <th>type_of_starter</th>\n",
       "    </tr>\n",
       "  </thead>\n",
       "  <tbody>\n",
       "    <tr>\n",
       "      <th>1</th>\n",
       "      <td>10183847</td>\n",
       "      <td>5382</td>\n",
       "      <td>16736</td>\n",
       "      <td>True</td>\n",
       "      <td>21</td>\n",
       "      <td>-1</td>\n",
       "      <td>NaN</td>\n",
       "      <td>False</td>\n",
       "      <td>16736</td>\n",
       "      <td>40</td>\n",
       "      <td>...</td>\n",
       "      <td>0</td>\n",
       "      <td>0</td>\n",
       "      <td>0</td>\n",
       "      <td>0</td>\n",
       "      <td>0</td>\n",
       "      <td>0</td>\n",
       "      <td>1</td>\n",
       "      <td>0</td>\n",
       "      <td>0</td>\n",
       "      <td>0</td>\n",
       "    </tr>\n",
       "    <tr>\n",
       "      <th>2</th>\n",
       "      <td>1424348597</td>\n",
       "      <td>5382</td>\n",
       "      <td>30207</td>\n",
       "      <td>True</td>\n",
       "      <td>104</td>\n",
       "      <td>-1</td>\n",
       "      <td>NaN</td>\n",
       "      <td>False</td>\n",
       "      <td>30207</td>\n",
       "      <td>43</td>\n",
       "      <td>...</td>\n",
       "      <td>0</td>\n",
       "      <td>0</td>\n",
       "      <td>0</td>\n",
       "      <td>1</td>\n",
       "      <td>0</td>\n",
       "      <td>0</td>\n",
       "      <td>1</td>\n",
       "      <td>0</td>\n",
       "      <td>0</td>\n",
       "      <td>0</td>\n",
       "    </tr>\n",
       "    <tr>\n",
       "      <th>3</th>\n",
       "      <td>1425557777</td>\n",
       "      <td>5382</td>\n",
       "      <td>18545</td>\n",
       "      <td>True</td>\n",
       "      <td>121</td>\n",
       "      <td>-1</td>\n",
       "      <td>NaN</td>\n",
       "      <td>False</td>\n",
       "      <td>18545</td>\n",
       "      <td>58</td>\n",
       "      <td>...</td>\n",
       "      <td>0</td>\n",
       "      <td>0</td>\n",
       "      <td>0</td>\n",
       "      <td>1</td>\n",
       "      <td>0</td>\n",
       "      <td>0</td>\n",
       "      <td>1</td>\n",
       "      <td>0</td>\n",
       "      <td>0</td>\n",
       "      <td>0</td>\n",
       "    </tr>\n",
       "  </tbody>\n",
       "</table>\n",
       "<p>3 rows × 21 columns</p>\n",
       "</div>"
      ],
      "text/plain": [
       "    timestamp  user_id  content_id  content_type_id  task_container_id  \\\n",
       "1    10183847     5382       16736             True                 21   \n",
       "2  1424348597     5382       30207             True                104   \n",
       "3  1425557777     5382       18545             True                121   \n",
       "\n",
       "   answered_correctly  prior_question_elapsed_time  \\\n",
       "1                  -1                          NaN   \n",
       "2                  -1                          NaN   \n",
       "3                  -1                          NaN   \n",
       "\n",
       "  prior_question_had_explanation  lecture_id  tag  ...  part_2  part_3  \\\n",
       "1                          False       16736   40  ...       0       0   \n",
       "2                          False       30207   43  ...       0       0   \n",
       "3                          False       18545   58  ...       0       0   \n",
       "\n",
       "   part_4  part_5  part_6  part_7  type_of_concept  type_of_intention  \\\n",
       "1       0       0       0       0                1                  0   \n",
       "2       0       1       0       0                1                  0   \n",
       "3       0       1       0       0                1                  0   \n",
       "\n",
       "   type_of_solving_question  type_of_starter  \n",
       "1                         0                0  \n",
       "2                         0                0  \n",
       "3                         0                0  \n",
       "\n",
       "[3 rows x 21 columns]"
      ]
     },
     "execution_count": 12,
     "metadata": {},
     "output_type": "execute_result"
    }
   ],
   "source": [
    "train_lectures[train_lectures.user_id==5382]"
   ]
  },
  {
   "cell_type": "code",
   "execution_count": 13,
   "metadata": {
    "execution": {
     "iopub.execute_input": "2020-12-15T07:48:51.690150Z",
     "iopub.status.busy": "2020-12-15T07:48:51.689043Z",
     "iopub.status.idle": "2020-12-15T07:48:51.701438Z",
     "shell.execute_reply": "2020-12-15T07:48:51.702016Z"
    },
    "papermill": {
     "duration": 0.069477,
     "end_time": "2020-12-15T07:48:51.702167",
     "exception": false,
     "start_time": "2020-12-15T07:48:51.632690",
     "status": "completed"
    },
    "tags": []
   },
   "outputs": [
    {
     "data": {
      "text/html": [
       "<div>\n",
       "<style scoped>\n",
       "    .dataframe tbody tr th:only-of-type {\n",
       "        vertical-align: middle;\n",
       "    }\n",
       "\n",
       "    .dataframe tbody tr th {\n",
       "        vertical-align: top;\n",
       "    }\n",
       "\n",
       "    .dataframe thead th {\n",
       "        text-align: right;\n",
       "    }\n",
       "</style>\n",
       "<table border=\"1\" class=\"dataframe\">\n",
       "  <thead>\n",
       "    <tr style=\"text-align: right;\">\n",
       "      <th></th>\n",
       "      <th>user_id</th>\n",
       "      <th>part_1</th>\n",
       "      <th>part_2</th>\n",
       "      <th>part_3</th>\n",
       "      <th>part_4</th>\n",
       "      <th>part_5</th>\n",
       "      <th>part_6</th>\n",
       "      <th>part_7</th>\n",
       "      <th>type_of_concept</th>\n",
       "      <th>type_of_intention</th>\n",
       "      <th>type_of_solving_question</th>\n",
       "      <th>type_of_starter</th>\n",
       "    </tr>\n",
       "  </thead>\n",
       "  <tbody>\n",
       "    <tr>\n",
       "      <th>1</th>\n",
       "      <td>5382</td>\n",
       "      <td>1</td>\n",
       "      <td>0</td>\n",
       "      <td>0</td>\n",
       "      <td>0</td>\n",
       "      <td>1</td>\n",
       "      <td>0</td>\n",
       "      <td>0</td>\n",
       "      <td>1</td>\n",
       "      <td>0</td>\n",
       "      <td>0</td>\n",
       "      <td>0</td>\n",
       "    </tr>\n",
       "  </tbody>\n",
       "</table>\n",
       "</div>"
      ],
      "text/plain": [
       "   user_id  part_1  part_2  part_3  part_4  part_5  part_6  part_7  \\\n",
       "1     5382       1       0       0       0       1       0       0   \n",
       "\n",
       "   type_of_concept  type_of_intention  type_of_solving_question  \\\n",
       "1                1                  0                         0   \n",
       "\n",
       "   type_of_starter  \n",
       "1                0  "
      ]
     },
     "execution_count": 13,
     "metadata": {},
     "output_type": "execute_result"
    }
   ],
   "source": [
    "user_lecture_stats_part[user_lecture_stats_part.user_id==5382]"
   ]
  },
  {
   "cell_type": "code",
   "execution_count": 14,
   "metadata": {
    "execution": {
     "iopub.execute_input": "2020-12-15T07:48:51.817957Z",
     "iopub.status.busy": "2020-12-15T07:48:51.816917Z",
     "iopub.status.idle": "2020-12-15T07:48:51.822223Z",
     "shell.execute_reply": "2020-12-15T07:48:51.821595Z"
    },
    "papermill": {
     "duration": 0.068975,
     "end_time": "2020-12-15T07:48:51.822349",
     "exception": false,
     "start_time": "2020-12-15T07:48:51.753374",
     "status": "completed"
    },
    "tags": []
   },
   "outputs": [
    {
     "data": {
      "text/html": [
       "<div>\n",
       "<style scoped>\n",
       "    .dataframe tbody tr th:only-of-type {\n",
       "        vertical-align: middle;\n",
       "    }\n",
       "\n",
       "    .dataframe tbody tr th {\n",
       "        vertical-align: top;\n",
       "    }\n",
       "\n",
       "    .dataframe thead th {\n",
       "        text-align: right;\n",
       "    }\n",
       "</style>\n",
       "<table border=\"1\" class=\"dataframe\">\n",
       "  <thead>\n",
       "    <tr style=\"text-align: right;\">\n",
       "      <th></th>\n",
       "      <th>user_id</th>\n",
       "      <th>part_1</th>\n",
       "      <th>part_2</th>\n",
       "      <th>part_3</th>\n",
       "      <th>part_4</th>\n",
       "      <th>part_5</th>\n",
       "      <th>part_6</th>\n",
       "      <th>part_7</th>\n",
       "      <th>type_of_concept</th>\n",
       "      <th>type_of_intention</th>\n",
       "      <th>type_of_solving_question</th>\n",
       "      <th>type_of_starter</th>\n",
       "    </tr>\n",
       "  </thead>\n",
       "  <tbody>\n",
       "    <tr>\n",
       "      <th>149601</th>\n",
       "      <td>2147419988</td>\n",
       "      <td>1</td>\n",
       "      <td>0</td>\n",
       "      <td>1</td>\n",
       "      <td>0</td>\n",
       "      <td>1</td>\n",
       "      <td>1</td>\n",
       "      <td>0</td>\n",
       "      <td>1</td>\n",
       "      <td>0</td>\n",
       "      <td>1</td>\n",
       "      <td>0</td>\n",
       "    </tr>\n",
       "    <tr>\n",
       "      <th>149602</th>\n",
       "      <td>2147469944</td>\n",
       "      <td>1</td>\n",
       "      <td>0</td>\n",
       "      <td>0</td>\n",
       "      <td>1</td>\n",
       "      <td>1</td>\n",
       "      <td>0</td>\n",
       "      <td>0</td>\n",
       "      <td>1</td>\n",
       "      <td>0</td>\n",
       "      <td>0</td>\n",
       "      <td>0</td>\n",
       "    </tr>\n",
       "    <tr>\n",
       "      <th>149603</th>\n",
       "      <td>2147470770</td>\n",
       "      <td>0</td>\n",
       "      <td>0</td>\n",
       "      <td>0</td>\n",
       "      <td>0</td>\n",
       "      <td>1</td>\n",
       "      <td>0</td>\n",
       "      <td>0</td>\n",
       "      <td>1</td>\n",
       "      <td>0</td>\n",
       "      <td>0</td>\n",
       "      <td>0</td>\n",
       "    </tr>\n",
       "    <tr>\n",
       "      <th>149604</th>\n",
       "      <td>2147470777</td>\n",
       "      <td>0</td>\n",
       "      <td>0</td>\n",
       "      <td>0</td>\n",
       "      <td>1</td>\n",
       "      <td>1</td>\n",
       "      <td>0</td>\n",
       "      <td>0</td>\n",
       "      <td>1</td>\n",
       "      <td>0</td>\n",
       "      <td>0</td>\n",
       "      <td>0</td>\n",
       "    </tr>\n",
       "    <tr>\n",
       "      <th>149605</th>\n",
       "      <td>2147482216</td>\n",
       "      <td>0</td>\n",
       "      <td>1</td>\n",
       "      <td>0</td>\n",
       "      <td>0</td>\n",
       "      <td>0</td>\n",
       "      <td>0</td>\n",
       "      <td>0</td>\n",
       "      <td>1</td>\n",
       "      <td>1</td>\n",
       "      <td>0</td>\n",
       "      <td>0</td>\n",
       "    </tr>\n",
       "  </tbody>\n",
       "</table>\n",
       "</div>"
      ],
      "text/plain": [
       "           user_id  part_1  part_2  part_3  part_4  part_5  part_6  part_7  \\\n",
       "149601  2147419988       1       0       1       0       1       1       0   \n",
       "149602  2147469944       1       0       0       1       1       0       0   \n",
       "149603  2147470770       0       0       0       0       1       0       0   \n",
       "149604  2147470777       0       0       0       1       1       0       0   \n",
       "149605  2147482216       0       1       0       0       0       0       0   \n",
       "\n",
       "        type_of_concept  type_of_intention  type_of_solving_question  \\\n",
       "149601                1                  0                         1   \n",
       "149602                1                  0                         0   \n",
       "149603                1                  0                         0   \n",
       "149604                1                  0                         0   \n",
       "149605                1                  1                         0   \n",
       "\n",
       "        type_of_starter  \n",
       "149601                0  \n",
       "149602                0  \n",
       "149603                0  \n",
       "149604                0  \n",
       "149605                0  "
      ]
     },
     "execution_count": 14,
     "metadata": {},
     "output_type": "execute_result"
    }
   ],
   "source": [
    "user_lecture_stats_part.tail()"
   ]
  },
  {
   "cell_type": "code",
   "execution_count": 15,
   "metadata": {
    "execution": {
     "iopub.execute_input": "2020-12-15T07:48:51.934989Z",
     "iopub.status.busy": "2020-12-15T07:48:51.934093Z",
     "iopub.status.idle": "2020-12-15T07:48:51.938784Z",
     "shell.execute_reply": "2020-12-15T07:48:51.938107Z"
    },
    "papermill": {
     "duration": 0.06515,
     "end_time": "2020-12-15T07:48:51.938905",
     "exception": false,
     "start_time": "2020-12-15T07:48:51.873755",
     "status": "completed"
    },
    "tags": []
   },
   "outputs": [
    {
     "data": {
      "text/plain": [
       "user_id                     int32\n",
       "part_1                       int8\n",
       "part_2                       int8\n",
       "part_3                       int8\n",
       "part_4                       int8\n",
       "part_5                       int8\n",
       "part_6                       int8\n",
       "part_7                       int8\n",
       "type_of_concept              int8\n",
       "type_of_intention            int8\n",
       "type_of_solving_question     int8\n",
       "type_of_starter              int8\n",
       "dtype: object"
      ]
     },
     "execution_count": 15,
     "metadata": {},
     "output_type": "execute_result"
    }
   ],
   "source": [
    "user_lecture_stats_part.dtypes"
   ]
  },
  {
   "cell_type": "code",
   "execution_count": 16,
   "metadata": {
    "execution": {
     "iopub.execute_input": "2020-12-15T07:48:52.053663Z",
     "iopub.status.busy": "2020-12-15T07:48:52.052611Z",
     "iopub.status.idle": "2020-12-15T07:48:52.056604Z",
     "shell.execute_reply": "2020-12-15T07:48:52.055971Z"
    },
    "papermill": {
     "duration": 0.066206,
     "end_time": "2020-12-15T07:48:52.056733",
     "exception": false,
     "start_time": "2020-12-15T07:48:51.990527",
     "status": "completed"
    },
    "tags": []
   },
   "outputs": [],
   "source": [
    "#clearing memory\n",
    "del(train_lectures)"
   ]
  },
  {
   "cell_type": "code",
   "execution_count": 17,
   "metadata": {
    "execution": {
     "iopub.execute_input": "2020-12-15T07:48:52.166102Z",
     "iopub.status.busy": "2020-12-15T07:48:52.165148Z",
     "iopub.status.idle": "2020-12-15T07:48:52.170337Z",
     "shell.execute_reply": "2020-12-15T07:48:52.169635Z"
    },
    "papermill": {
     "duration": 0.062013,
     "end_time": "2020-12-15T07:48:52.170468",
     "exception": false,
     "start_time": "2020-12-15T07:48:52.108455",
     "status": "completed"
    },
    "tags": []
   },
   "outputs": [
    {
     "name": "stdout",
     "output_type": "stream",
     "text": [
      "32.4\n"
     ]
    }
   ],
   "source": [
    "print(psutil.virtual_memory().percent)"
   ]
  },
  {
   "cell_type": "code",
   "execution_count": 18,
   "metadata": {
    "execution": {
     "iopub.execute_input": "2020-12-15T07:48:52.286339Z",
     "iopub.status.busy": "2020-12-15T07:48:52.284689Z",
     "iopub.status.idle": "2020-12-15T07:49:07.519050Z",
     "shell.execute_reply": "2020-12-15T07:49:07.518281Z"
    },
    "papermill": {
     "duration": 15.295414,
     "end_time": "2020-12-15T07:49:07.519189",
     "exception": false,
     "start_time": "2020-12-15T07:48:52.223775",
     "status": "completed"
    },
    "tags": []
   },
   "outputs": [],
   "source": [
    "cum = train_df.groupby('user_id')['content_type_id'].agg(['cumsum', 'cumcount'])\n",
    "train_df['user_lecture_cumsum'] = cum['cumsum'] \n",
    "train_df['user_lecture_lv'] = cum['cumsum'] / cum['cumcount']\n",
    "\n",
    "\n",
    "train_df.user_lecture_lv=train_df.user_lecture_lv.astype('float16')\n",
    "train_df.user_lecture_cumsum=train_df.user_lecture_cumsum.astype('int8')\n",
    "user_lecture_agg = train_df.groupby('user_id')['content_type_id'].agg(['sum', 'count'])"
   ]
  },
  {
   "cell_type": "code",
   "execution_count": 19,
   "metadata": {
    "execution": {
     "iopub.execute_input": "2020-12-15T07:49:18.659600Z",
     "iopub.status.busy": "2020-12-15T07:49:18.658811Z",
     "iopub.status.idle": "2020-12-15T07:49:35.101756Z",
     "shell.execute_reply": "2020-12-15T07:49:35.102485Z"
    },
    "papermill": {
     "duration": 27.530827,
     "end_time": "2020-12-15T07:49:35.102677",
     "exception": false,
     "start_time": "2020-12-15T07:49:07.571850",
     "status": "completed"
    },
    "tags": []
   },
   "outputs": [],
   "source": [
    "train_df['prior_question_had_explanation'].fillna(False, inplace=True)\n",
    "train_df = train_df.astype(data_types_dict)\n",
    "train_df = train_df[train_df[target] != -1].reset_index(drop=True)\n",
    "prior_question_elapsed_time_mean=train_df['prior_question_elapsed_time'].mean()\n",
    "train_df['prior_question_elapsed_time'].fillna(prior_question_elapsed_time_mean, inplace=True)"
   ]
  },
  {
   "cell_type": "code",
   "execution_count": 20,
   "metadata": {
    "execution": {
     "iopub.execute_input": "2020-12-15T07:49:35.215676Z",
     "iopub.status.busy": "2020-12-15T07:49:35.214642Z",
     "iopub.status.idle": "2020-12-15T07:49:38.574982Z",
     "shell.execute_reply": "2020-12-15T07:49:38.575574Z"
    },
    "papermill": {
     "duration": 3.418,
     "end_time": "2020-12-15T07:49:38.575731",
     "exception": false,
     "start_time": "2020-12-15T07:49:35.157731",
     "status": "completed"
    },
    "tags": []
   },
   "outputs": [],
   "source": [
    "max_timestamp_u = train_df[['user_id','timestamp']].groupby(['user_id']).agg(['max']).reset_index()\n",
    "#max_timestamp_u = train_df[['user_id','timestamp']].groupby(['user_id']).agg(['max'])\n",
    "max_timestamp_u.columns = ['user_id', 'max_time_stamp']"
   ]
  },
  {
   "cell_type": "code",
   "execution_count": 21,
   "metadata": {
    "execution": {
     "iopub.execute_input": "2020-12-15T07:49:38.685727Z",
     "iopub.status.busy": "2020-12-15T07:49:38.684677Z",
     "iopub.status.idle": "2020-12-15T07:49:44.096143Z",
     "shell.execute_reply": "2020-12-15T07:49:44.095538Z"
    },
    "papermill": {
     "duration": 5.466984,
     "end_time": "2020-12-15T07:49:44.096263",
     "exception": false,
     "start_time": "2020-12-15T07:49:38.629279",
     "status": "completed"
    },
    "tags": []
   },
   "outputs": [],
   "source": [
    "\n",
    "train_df['lagtime'] = train_df.groupby('user_id')['timestamp'].shift()\n",
    "train_df['lagtime']=train_df['timestamp']-train_df['lagtime']\n",
    "train_df['lagtime'].fillna(0, inplace=True)\n",
    "train_df.lagtime=train_df.lagtime.astype('int32')\n",
    "#train_df.drop(columns=['timestamp'], inplace=True)"
   ]
  },
  {
   "cell_type": "code",
   "execution_count": 22,
   "metadata": {
    "execution": {
     "iopub.execute_input": "2020-12-15T07:49:44.205872Z",
     "iopub.status.busy": "2020-12-15T07:49:44.204828Z",
     "iopub.status.idle": "2020-12-15T07:49:48.742138Z",
     "shell.execute_reply": "2020-12-15T07:49:48.742665Z"
    },
    "papermill": {
     "duration": 4.593429,
     "end_time": "2020-12-15T07:49:48.742833",
     "exception": false,
     "start_time": "2020-12-15T07:49:44.149404",
     "status": "completed"
    },
    "tags": []
   },
   "outputs": [],
   "source": [
    "lagtime_agg = train_df.groupby('user_id')['lagtime'].agg(['mean'])\n",
    "train_df['lagtime_mean'] = train_df['user_id'].map(lagtime_agg['mean'])\n",
    "train_df.lagtime_mean=train_df.lagtime_mean.astype('int32')"
   ]
  },
  {
   "cell_type": "code",
   "execution_count": 23,
   "metadata": {
    "execution": {
     "iopub.execute_input": "2020-12-15T07:49:48.851822Z",
     "iopub.status.busy": "2020-12-15T07:49:48.850814Z",
     "iopub.status.idle": "2020-12-15T07:49:56.198570Z",
     "shell.execute_reply": "2020-12-15T07:49:56.197893Z"
    },
    "papermill": {
     "duration": 7.403873,
     "end_time": "2020-12-15T07:49:56.198692",
     "exception": false,
     "start_time": "2020-12-15T07:49:48.794819",
     "status": "completed"
    },
    "tags": []
   },
   "outputs": [],
   "source": [
    "user_prior_question_elapsed_time = train_df[['user_id','prior_question_elapsed_time']].groupby(['user_id']).tail(1)\n",
    "#max_timestamp_u = train_df[['user_id','timestamp']].groupby(['user_id']).agg(['max'])\n",
    "user_prior_question_elapsed_time.columns = ['user_id', 'prior_question_elapsed_time']"
   ]
  },
  {
   "cell_type": "code",
   "execution_count": 24,
   "metadata": {
    "execution": {
     "iopub.execute_input": "2020-12-15T07:49:56.310987Z",
     "iopub.status.busy": "2020-12-15T07:49:56.310256Z",
     "iopub.status.idle": "2020-12-15T07:50:00.394975Z",
     "shell.execute_reply": "2020-12-15T07:50:00.394406Z"
    },
    "papermill": {
     "duration": 4.144341,
     "end_time": "2020-12-15T07:50:00.395100",
     "exception": false,
     "start_time": "2020-12-15T07:49:56.250759",
     "status": "completed"
    },
    "tags": []
   },
   "outputs": [],
   "source": [
    "\n",
    "train_df['delta_prior_question_elapsed_time'] = train_df.groupby('user_id')['prior_question_elapsed_time'].shift()\n",
    "train_df['delta_prior_question_elapsed_time']=train_df['prior_question_elapsed_time']-train_df['delta_prior_question_elapsed_time']\n",
    "train_df['delta_prior_question_elapsed_time'].fillna(0, inplace=True)\n"
   ]
  },
  {
   "cell_type": "code",
   "execution_count": 25,
   "metadata": {
    "execution": {
     "iopub.execute_input": "2020-12-15T07:50:00.505523Z",
     "iopub.status.busy": "2020-12-15T07:50:00.504795Z",
     "iopub.status.idle": "2020-12-15T07:50:00.864903Z",
     "shell.execute_reply": "2020-12-15T07:50:00.864335Z"
    },
    "papermill": {
     "duration": 0.417382,
     "end_time": "2020-12-15T07:50:00.865022",
     "exception": false,
     "start_time": "2020-12-15T07:50:00.447640",
     "status": "completed"
    },
    "tags": []
   },
   "outputs": [],
   "source": [
    "train_df.delta_prior_question_elapsed_time=train_df.delta_prior_question_elapsed_time.astype('int32')"
   ]
  },
  {
   "cell_type": "code",
   "execution_count": 26,
   "metadata": {
    "execution": {
     "iopub.execute_input": "2020-12-15T07:50:00.979002Z",
     "iopub.status.busy": "2020-12-15T07:50:00.977864Z",
     "iopub.status.idle": "2020-12-15T07:50:01.796818Z",
     "shell.execute_reply": "2020-12-15T07:50:01.797883Z"
    },
    "papermill": {
     "duration": 0.879242,
     "end_time": "2020-12-15T07:50:01.798052",
     "exception": false,
     "start_time": "2020-12-15T07:50:00.918810",
     "status": "completed"
    },
    "tags": []
   },
   "outputs": [],
   "source": [
    "train_df['timestamp']=train_df['timestamp']/(1000*3600)\n",
    "train_df.timestamp=train_df.timestamp.astype('int16')\n",
    "#"
   ]
  },
  {
   "cell_type": "code",
   "execution_count": 27,
   "metadata": {
    "execution": {
     "iopub.execute_input": "2020-12-15T07:50:01.907465Z",
     "iopub.status.busy": "2020-12-15T07:50:01.906706Z",
     "iopub.status.idle": "2020-12-15T07:50:25.855521Z",
     "shell.execute_reply": "2020-12-15T07:50:25.853968Z"
    },
    "papermill": {
     "duration": 24.004668,
     "end_time": "2020-12-15T07:50:25.855664",
     "exception": false,
     "start_time": "2020-12-15T07:50:01.850996",
     "status": "completed"
    },
    "tags": []
   },
   "outputs": [],
   "source": [
    "\n",
    "train_df['lag'] = train_df.groupby('user_id')[target].shift()\n",
    "\n",
    "cum = train_df.groupby('user_id')['lag'].agg(['cumsum', 'cumcount'])\n",
    "train_df['user_correctness'] = cum['cumsum'] / cum['cumcount']\n",
    "train_df['user_correct_cumsum'] = cum['cumsum']\n",
    "train_df['user_correct_cumcount'] = cum['cumcount']\n",
    "train_df.drop(columns=['lag'], inplace=True)\n",
    "\n",
    "# train_df['user_correctness'].fillna(1, inplace=True)\n",
    "train_df['user_correct_cumsum'].fillna(0, inplace=True)\n",
    "#train_df['user_correct_cumcount'].fillna(0, inplace=True)\n",
    "train_df.user_correctness=train_df.user_correctness.astype('float16')\n",
    "train_df.user_correct_cumcount=train_df.user_correct_cumcount.astype('int16')\n",
    "train_df.user_correct_cumsum=train_df.user_correct_cumsum.astype('int16')"
   ]
  },
  {
   "cell_type": "code",
   "execution_count": 28,
   "metadata": {
    "execution": {
     "iopub.execute_input": "2020-12-15T07:50:25.969098Z",
     "iopub.status.busy": "2020-12-15T07:50:25.968467Z",
     "iopub.status.idle": "2020-12-15T07:50:30.053792Z",
     "shell.execute_reply": "2020-12-15T07:50:30.054303Z"
    },
    "papermill": {
     "duration": 4.145292,
     "end_time": "2020-12-15T07:50:30.054492",
     "exception": false,
     "start_time": "2020-12-15T07:50:25.909200",
     "status": "completed"
    },
    "tags": []
   },
   "outputs": [],
   "source": [
    "train_df.prior_question_had_explanation=train_df.prior_question_had_explanation.astype('int8')\n",
    "\n",
    "train_df['lag'] = train_df.groupby('user_id')['prior_question_had_explanation'].shift()"
   ]
  },
  {
   "cell_type": "code",
   "execution_count": 29,
   "metadata": {
    "execution": {
     "iopub.execute_input": "2020-12-15T07:50:30.171339Z",
     "iopub.status.busy": "2020-12-15T07:50:30.170609Z",
     "iopub.status.idle": "2020-12-15T07:50:46.375059Z",
     "shell.execute_reply": "2020-12-15T07:50:46.375689Z"
    },
    "papermill": {
     "duration": 16.26749,
     "end_time": "2020-12-15T07:50:46.375876",
     "exception": false,
     "start_time": "2020-12-15T07:50:30.108386",
     "status": "completed"
    },
    "tags": []
   },
   "outputs": [],
   "source": [
    "\n",
    "cum = train_df.groupby('user_id')['lag'].agg(['cumsum', 'cumcount'])\n",
    "train_df['explanation_mean'] = cum['cumsum'] / cum['cumcount']\n",
    "train_df['explanation_cumsum'] = cum['cumsum'] \n",
    "train_df.drop(columns=['lag'], inplace=True)\n",
    "\n",
    "train_df['explanation_mean'].fillna(0, inplace=True)\n",
    "train_df['explanation_cumsum'].fillna(0, inplace=True)\n",
    "train_df.explanation_mean=train_df.explanation_mean.astype('float16')\n",
    "train_df.explanation_cumsum=train_df.explanation_cumsum.astype('int16')"
   ]
  },
  {
   "cell_type": "code",
   "execution_count": 30,
   "metadata": {
    "execution": {
     "iopub.execute_input": "2020-12-15T07:50:46.585203Z",
     "iopub.status.busy": "2020-12-15T07:50:46.583742Z",
     "iopub.status.idle": "2020-12-15T07:50:46.588458Z",
     "shell.execute_reply": "2020-12-15T07:50:46.587916Z"
    },
    "papermill": {
     "duration": 0.159146,
     "end_time": "2020-12-15T07:50:46.588576",
     "exception": false,
     "start_time": "2020-12-15T07:50:46.429430",
     "status": "completed"
    },
    "tags": []
   },
   "outputs": [
    {
     "data": {
      "text/plain": [
       "73"
      ]
     },
     "execution_count": 30,
     "metadata": {},
     "output_type": "execute_result"
    }
   ],
   "source": [
    "del cum\n",
    "gc.collect()"
   ]
  },
  {
   "cell_type": "code",
   "execution_count": 31,
   "metadata": {
    "execution": {
     "iopub.execute_input": "2020-12-15T07:50:46.704230Z",
     "iopub.status.busy": "2020-12-15T07:50:46.702778Z",
     "iopub.status.idle": "2020-12-15T07:51:38.317607Z",
     "shell.execute_reply": "2020-12-15T07:51:38.316978Z"
    },
    "papermill": {
     "duration": 51.675552,
     "end_time": "2020-12-15T07:51:38.317753",
     "exception": false,
     "start_time": "2020-12-15T07:50:46.642201",
     "status": "completed"
    },
    "tags": []
   },
   "outputs": [],
   "source": [
    "\n",
    "train_df[\"attempt_no\"] = 1\n",
    "train_df.attempt_no=train_df.attempt_no.astype('int8')\n",
    "train_df[\"attempt_no\"] = train_df[[\"user_id\",\"content_id\",'attempt_no']].groupby([\"user_id\",\"content_id\"])[\"attempt_no\"].cumsum()"
   ]
  },
  {
   "cell_type": "code",
   "execution_count": 32,
   "metadata": {
    "execution": {
     "iopub.execute_input": "2020-12-15T07:51:38.445967Z",
     "iopub.status.busy": "2020-12-15T07:51:38.431190Z",
     "iopub.status.idle": "2020-12-15T07:51:38.451489Z",
     "shell.execute_reply": "2020-12-15T07:51:38.450853Z"
    },
    "papermill": {
     "duration": 0.080053,
     "end_time": "2020-12-15T07:51:38.451614",
     "exception": false,
     "start_time": "2020-12-15T07:51:38.371561",
     "status": "completed"
    },
    "tags": []
   },
   "outputs": [
    {
     "data": {
      "text/html": [
       "<div>\n",
       "<style scoped>\n",
       "    .dataframe tbody tr th:only-of-type {\n",
       "        vertical-align: middle;\n",
       "    }\n",
       "\n",
       "    .dataframe tbody tr th {\n",
       "        vertical-align: top;\n",
       "    }\n",
       "\n",
       "    .dataframe thead th {\n",
       "        text-align: right;\n",
       "    }\n",
       "</style>\n",
       "<table border=\"1\" class=\"dataframe\">\n",
       "  <thead>\n",
       "    <tr style=\"text-align: right;\">\n",
       "      <th></th>\n",
       "      <th>timestamp</th>\n",
       "      <th>user_id</th>\n",
       "      <th>content_id</th>\n",
       "      <th>content_type_id</th>\n",
       "      <th>task_container_id</th>\n",
       "      <th>answered_correctly</th>\n",
       "      <th>prior_question_elapsed_time</th>\n",
       "      <th>prior_question_had_explanation</th>\n",
       "      <th>user_lecture_cumsum</th>\n",
       "      <th>user_lecture_lv</th>\n",
       "      <th>lagtime</th>\n",
       "      <th>lagtime_mean</th>\n",
       "      <th>delta_prior_question_elapsed_time</th>\n",
       "      <th>user_correctness</th>\n",
       "      <th>user_correct_cumsum</th>\n",
       "      <th>user_correct_cumcount</th>\n",
       "      <th>explanation_mean</th>\n",
       "      <th>explanation_cumsum</th>\n",
       "      <th>attempt_no</th>\n",
       "    </tr>\n",
       "  </thead>\n",
       "  <tbody>\n",
       "    <tr>\n",
       "      <th>0</th>\n",
       "      <td>0</td>\n",
       "      <td>115</td>\n",
       "      <td>5692</td>\n",
       "      <td>0</td>\n",
       "      <td>1</td>\n",
       "      <td>1</td>\n",
       "      <td>13005.081055</td>\n",
       "      <td>0</td>\n",
       "      <td>0</td>\n",
       "      <td>NaN</td>\n",
       "      <td>0</td>\n",
       "      <td>14523696</td>\n",
       "      <td>0</td>\n",
       "      <td>NaN</td>\n",
       "      <td>0</td>\n",
       "      <td>0</td>\n",
       "      <td>0.0</td>\n",
       "      <td>0</td>\n",
       "      <td>1</td>\n",
       "    </tr>\n",
       "    <tr>\n",
       "      <th>1</th>\n",
       "      <td>0</td>\n",
       "      <td>115</td>\n",
       "      <td>5716</td>\n",
       "      <td>0</td>\n",
       "      <td>2</td>\n",
       "      <td>1</td>\n",
       "      <td>37000.000000</td>\n",
       "      <td>0</td>\n",
       "      <td>0</td>\n",
       "      <td>0.0</td>\n",
       "      <td>56943</td>\n",
       "      <td>14523696</td>\n",
       "      <td>23994</td>\n",
       "      <td>1.0</td>\n",
       "      <td>1</td>\n",
       "      <td>1</td>\n",
       "      <td>0.0</td>\n",
       "      <td>0</td>\n",
       "      <td>1</td>\n",
       "    </tr>\n",
       "    <tr>\n",
       "      <th>2</th>\n",
       "      <td>0</td>\n",
       "      <td>115</td>\n",
       "      <td>128</td>\n",
       "      <td>0</td>\n",
       "      <td>0</td>\n",
       "      <td>1</td>\n",
       "      <td>55000.000000</td>\n",
       "      <td>0</td>\n",
       "      <td>0</td>\n",
       "      <td>0.0</td>\n",
       "      <td>61420</td>\n",
       "      <td>14523696</td>\n",
       "      <td>18000</td>\n",
       "      <td>1.0</td>\n",
       "      <td>2</td>\n",
       "      <td>2</td>\n",
       "      <td>0.0</td>\n",
       "      <td>0</td>\n",
       "      <td>1</td>\n",
       "    </tr>\n",
       "    <tr>\n",
       "      <th>3</th>\n",
       "      <td>0</td>\n",
       "      <td>115</td>\n",
       "      <td>7860</td>\n",
       "      <td>0</td>\n",
       "      <td>3</td>\n",
       "      <td>1</td>\n",
       "      <td>19000.000000</td>\n",
       "      <td>0</td>\n",
       "      <td>0</td>\n",
       "      <td>0.0</td>\n",
       "      <td>12804</td>\n",
       "      <td>14523696</td>\n",
       "      <td>-36000</td>\n",
       "      <td>1.0</td>\n",
       "      <td>3</td>\n",
       "      <td>3</td>\n",
       "      <td>0.0</td>\n",
       "      <td>0</td>\n",
       "      <td>1</td>\n",
       "    </tr>\n",
       "    <tr>\n",
       "      <th>4</th>\n",
       "      <td>0</td>\n",
       "      <td>115</td>\n",
       "      <td>7922</td>\n",
       "      <td>0</td>\n",
       "      <td>4</td>\n",
       "      <td>1</td>\n",
       "      <td>11000.000000</td>\n",
       "      <td>0</td>\n",
       "      <td>0</td>\n",
       "      <td>0.0</td>\n",
       "      <td>6798</td>\n",
       "      <td>14523696</td>\n",
       "      <td>-8000</td>\n",
       "      <td>1.0</td>\n",
       "      <td>4</td>\n",
       "      <td>4</td>\n",
       "      <td>0.0</td>\n",
       "      <td>0</td>\n",
       "      <td>1</td>\n",
       "    </tr>\n",
       "  </tbody>\n",
       "</table>\n",
       "</div>"
      ],
      "text/plain": [
       "   timestamp  user_id  content_id  content_type_id  task_container_id  \\\n",
       "0          0      115        5692                0                  1   \n",
       "1          0      115        5716                0                  2   \n",
       "2          0      115         128                0                  0   \n",
       "3          0      115        7860                0                  3   \n",
       "4          0      115        7922                0                  4   \n",
       "\n",
       "   answered_correctly  prior_question_elapsed_time  \\\n",
       "0                   1                 13005.081055   \n",
       "1                   1                 37000.000000   \n",
       "2                   1                 55000.000000   \n",
       "3                   1                 19000.000000   \n",
       "4                   1                 11000.000000   \n",
       "\n",
       "   prior_question_had_explanation  user_lecture_cumsum  user_lecture_lv  \\\n",
       "0                               0                    0              NaN   \n",
       "1                               0                    0              0.0   \n",
       "2                               0                    0              0.0   \n",
       "3                               0                    0              0.0   \n",
       "4                               0                    0              0.0   \n",
       "\n",
       "   lagtime  lagtime_mean  delta_prior_question_elapsed_time  user_correctness  \\\n",
       "0        0      14523696                                  0               NaN   \n",
       "1    56943      14523696                              23994               1.0   \n",
       "2    61420      14523696                              18000               1.0   \n",
       "3    12804      14523696                             -36000               1.0   \n",
       "4     6798      14523696                              -8000               1.0   \n",
       "\n",
       "   user_correct_cumsum  user_correct_cumcount  explanation_mean  \\\n",
       "0                    0                      0               0.0   \n",
       "1                    1                      1               0.0   \n",
       "2                    2                      2               0.0   \n",
       "3                    3                      3               0.0   \n",
       "4                    4                      4               0.0   \n",
       "\n",
       "   explanation_cumsum  attempt_no  \n",
       "0                   0           1  \n",
       "1                   0           1  \n",
       "2                   0           1  \n",
       "3                   0           1  \n",
       "4                   0           1  "
      ]
     },
     "execution_count": 32,
     "metadata": {},
     "output_type": "execute_result"
    }
   ],
   "source": [
    "train_df.head()"
   ]
  },
  {
   "cell_type": "code",
   "execution_count": 33,
   "metadata": {
    "execution": {
     "iopub.execute_input": "2020-12-15T07:51:38.577059Z",
     "iopub.status.busy": "2020-12-15T07:51:38.575975Z",
     "iopub.status.idle": "2020-12-15T07:51:38.579844Z",
     "shell.execute_reply": "2020-12-15T07:51:38.580381Z"
    },
    "papermill": {
     "duration": 0.067276,
     "end_time": "2020-12-15T07:51:38.580530",
     "exception": false,
     "start_time": "2020-12-15T07:51:38.513254",
     "status": "completed"
    },
    "tags": []
   },
   "outputs": [
    {
     "data": {
      "text/plain": [
       "timestamp                              int16\n",
       "user_id                                int32\n",
       "content_id                             int16\n",
       "content_type_id                         int8\n",
       "task_container_id                      int16\n",
       "answered_correctly                      int8\n",
       "prior_question_elapsed_time          float32\n",
       "prior_question_had_explanation          int8\n",
       "user_lecture_cumsum                     int8\n",
       "user_lecture_lv                      float16\n",
       "lagtime                                int32\n",
       "lagtime_mean                           int32\n",
       "delta_prior_question_elapsed_time      int32\n",
       "user_correctness                     float16\n",
       "user_correct_cumsum                    int16\n",
       "user_correct_cumcount                  int16\n",
       "explanation_mean                     float16\n",
       "explanation_cumsum                     int16\n",
       "attempt_no                              int8\n",
       "dtype: object"
      ]
     },
     "execution_count": 33,
     "metadata": {},
     "output_type": "execute_result"
    }
   ],
   "source": [
    "train_df.dtypes"
   ]
  },
  {
   "cell_type": "code",
   "execution_count": 34,
   "metadata": {
    "execution": {
     "iopub.execute_input": "2020-12-15T07:51:38.766242Z",
     "iopub.status.busy": "2020-12-15T07:51:38.765209Z",
     "iopub.status.idle": "2020-12-15T07:51:41.993011Z",
     "shell.execute_reply": "2020-12-15T07:51:41.992300Z"
    },
    "papermill": {
     "duration": 3.303784,
     "end_time": "2020-12-15T07:51:41.993127",
     "exception": false,
     "start_time": "2020-12-15T07:51:38.689343",
     "status": "completed"
    },
    "tags": []
   },
   "outputs": [],
   "source": [
    "explanation_agg = train_df.groupby('user_id')['prior_question_had_explanation'].agg(['sum', 'count'])\n",
    "explanation_agg=explanation_agg.astype('int16')\n",
    "#train_df.drop(columns=['prior_question_had_explanation'], inplace=True)"
   ]
  },
  {
   "cell_type": "code",
   "execution_count": 35,
   "metadata": {
    "execution": {
     "iopub.execute_input": "2020-12-15T07:51:42.113521Z",
     "iopub.status.busy": "2020-12-15T07:51:42.112787Z",
     "iopub.status.idle": "2020-12-15T07:51:54.455267Z",
     "shell.execute_reply": "2020-12-15T07:51:54.455802Z"
    },
    "papermill": {
     "duration": 12.405833,
     "end_time": "2020-12-15T07:51:54.455959",
     "exception": false,
     "start_time": "2020-12-15T07:51:42.050126",
     "status": "completed"
    },
    "tags": []
   },
   "outputs": [],
   "source": [
    "user_agg = train_df.groupby('user_id')[target].agg(['sum', 'count'])\n",
    "content_agg = train_df.groupby('content_id')[target].agg(['sum', 'count','var'])\n",
    "task_container_agg = train_df.groupby('task_container_id')[target].agg(['sum', 'count','var'])\n",
    "\n",
    "#prior_question_elapsed_time_agg = train_df.groupby('user_id')['prior_question_elapsed_time'].agg(['sum', 'count'])"
   ]
  },
  {
   "cell_type": "code",
   "execution_count": 36,
   "metadata": {
    "execution": {
     "iopub.execute_input": "2020-12-15T07:51:54.575235Z",
     "iopub.status.busy": "2020-12-15T07:51:54.574551Z",
     "iopub.status.idle": "2020-12-15T07:51:54.580865Z",
     "shell.execute_reply": "2020-12-15T07:51:54.580200Z"
    },
    "papermill": {
     "duration": 0.068859,
     "end_time": "2020-12-15T07:51:54.580992",
     "exception": false,
     "start_time": "2020-12-15T07:51:54.512133",
     "status": "completed"
    },
    "tags": []
   },
   "outputs": [],
   "source": [
    "user_agg=user_agg.astype('int16')\n",
    "content_agg=content_agg.astype('float32')\n",
    "task_container_agg=task_container_agg.astype('float32')"
   ]
  },
  {
   "cell_type": "code",
   "execution_count": 37,
   "metadata": {
    "execution": {
     "iopub.execute_input": "2020-12-15T07:51:54.700340Z",
     "iopub.status.busy": "2020-12-15T07:51:54.699614Z",
     "iopub.status.idle": "2020-12-15T07:53:03.280975Z",
     "shell.execute_reply": "2020-12-15T07:53:03.281716Z"
    },
    "papermill": {
     "duration": 68.643815,
     "end_time": "2020-12-15T07:53:03.281896",
     "exception": false,
     "start_time": "2020-12-15T07:51:54.638081",
     "status": "completed"
    },
    "tags": []
   },
   "outputs": [],
   "source": [
    "attempt_no_agg=train_df.groupby([\"user_id\",\"content_id\"])[\"attempt_no\"].agg(['sum'])\n",
    "attempt_no_agg=attempt_no_agg.astype('int8')\n",
    "#attempt_series = train_df[['user_id', 'content_id','attempt_no']].groupby(['user_id','content_id'])['attempt_no'].max()"
   ]
  },
  {
   "cell_type": "code",
   "execution_count": 38,
   "metadata": {
    "execution": {
     "iopub.execute_input": "2020-12-15T07:53:03.405183Z",
     "iopub.status.busy": "2020-12-15T07:53:03.403121Z",
     "iopub.status.idle": "2020-12-15T07:53:12.364357Z",
     "shell.execute_reply": "2020-12-15T07:53:12.363635Z"
    },
    "papermill": {
     "duration": 9.026136,
     "end_time": "2020-12-15T07:53:12.364493",
     "exception": false,
     "start_time": "2020-12-15T07:53:03.338357",
     "status": "completed"
    },
    "tags": []
   },
   "outputs": [],
   "source": [
    "train_df['content_count'] = train_df['content_id'].map(content_agg['count']).astype('int32')\n",
    "train_df['content_sum'] = train_df['content_id'].map(content_agg['sum']).astype('int32')\n",
    "train_df['content_correctness'] = train_df['content_id'].map(content_agg['sum'] / content_agg['count'])\n",
    "train_df.content_correctness=train_df.content_correctness.astype('float16')\n",
    "train_df['task_container_sum'] = train_df['task_container_id'].map(task_container_agg['sum']).astype('int32')\n",
    "train_df['task_container_std'] = train_df['task_container_id'].map(task_container_agg['var']).astype('float16')\n",
    "train_df['task_container_correctness'] = train_df['task_container_id'].map(task_container_agg['sum'] / task_container_agg['count'])\n",
    "train_df.task_container_correctness=train_df.task_container_correctness.astype('float16')"
   ]
  },
  {
   "cell_type": "code",
   "execution_count": 39,
   "metadata": {
    "execution": {
     "iopub.execute_input": "2020-12-15T07:53:12.488330Z",
     "iopub.status.busy": "2020-12-15T07:53:12.485236Z",
     "iopub.status.idle": "2020-12-15T07:53:12.569431Z",
     "shell.execute_reply": "2020-12-15T07:53:12.568672Z"
    },
    "papermill": {
     "duration": 0.148908,
     "end_time": "2020-12-15T07:53:12.569566",
     "exception": false,
     "start_time": "2020-12-15T07:53:12.420658",
     "status": "completed"
    },
    "tags": []
   },
   "outputs": [],
   "source": [
    "questions_df = pd.read_csv(\n",
    "    '../input/riiid-test-answer-prediction/questions.csv', \n",
    "    usecols=[0, 1,3,4],\n",
    "    dtype={'question_id': 'int16','bundle_id': 'int16', 'part': 'int8','tags': 'str'}\n",
    ")\n",
    "questions_df['part_bundle_id']=questions_df['part']*100000+questions_df['bundle_id']\n",
    "questions_df.part_bundle_id=questions_df.part_bundle_id.astype('int32')\n",
    "tag = questions_df[\"tags\"].str.split(\" \", n = 10, expand = True)\n",
    "tag.columns = ['tags1','tags2','tags3','tags4','tags5','tags6']\n",
    "#\n",
    "\n",
    "tag.fillna(0, inplace=True)\n",
    "tag = tag.astype('int16')\n",
    "questions_df =  pd.concat([questions_df,tag],axis=1).drop(['tags'],axis=1)"
   ]
  },
  {
   "cell_type": "code",
   "execution_count": 40,
   "metadata": {
    "execution": {
     "iopub.execute_input": "2020-12-15T07:53:12.690166Z",
     "iopub.status.busy": "2020-12-15T07:53:12.689384Z",
     "iopub.status.idle": "2020-12-15T07:53:12.692922Z",
     "shell.execute_reply": "2020-12-15T07:53:12.692122Z"
    },
    "papermill": {
     "duration": 0.066235,
     "end_time": "2020-12-15T07:53:12.693052",
     "exception": false,
     "start_time": "2020-12-15T07:53:12.626817",
     "status": "completed"
    },
    "tags": []
   },
   "outputs": [],
   "source": [
    "questions_df.rename(columns={'question_id':'content_id'}, inplace=True)"
   ]
  },
  {
   "cell_type": "code",
   "execution_count": 41,
   "metadata": {
    "execution": {
     "iopub.execute_input": "2020-12-15T07:53:12.815097Z",
     "iopub.status.busy": "2020-12-15T07:53:12.814434Z",
     "iopub.status.idle": "2020-12-15T07:53:12.822871Z",
     "shell.execute_reply": "2020-12-15T07:53:12.822266Z"
    },
    "papermill": {
     "duration": 0.072715,
     "end_time": "2020-12-15T07:53:12.822984",
     "exception": false,
     "start_time": "2020-12-15T07:53:12.750269",
     "status": "completed"
    },
    "tags": []
   },
   "outputs": [],
   "source": [
    "questions_df['content_correctness'] = questions_df['content_id'].map(content_agg['sum'] / content_agg['count'])\n",
    "questions_df.content_correctness=questions_df.content_correctness.astype('float16')\n",
    "questions_df['content_correctness_std'] = questions_df['content_id'].map(content_agg['var'])\n",
    "questions_df.content_correctness_std=questions_df.content_correctness_std.astype('float16')"
   ]
  },
  {
   "cell_type": "code",
   "execution_count": 42,
   "metadata": {
    "execution": {
     "iopub.execute_input": "2020-12-15T07:53:12.957211Z",
     "iopub.status.busy": "2020-12-15T07:53:12.956132Z",
     "iopub.status.idle": "2020-12-15T07:53:12.965968Z",
     "shell.execute_reply": "2020-12-15T07:53:12.965398Z"
    },
    "papermill": {
     "duration": 0.086216,
     "end_time": "2020-12-15T07:53:12.966093",
     "exception": false,
     "start_time": "2020-12-15T07:53:12.879877",
     "status": "completed"
    },
    "tags": []
   },
   "outputs": [],
   "source": [
    "part_agg = questions_df.groupby('part')['content_correctness'].agg(['mean', 'var'])\n",
    "questions_df['part_correctness_mean'] = questions_df['part'].map(part_agg['mean'])\n",
    "questions_df['part_correctness_std'] = questions_df['part'].map(part_agg['var'])\n",
    "questions_df.part_correctness_mean=questions_df.part_correctness_mean.astype('float16')\n",
    "questions_df.part_correctness_std=questions_df.part_correctness_std.astype('float16')"
   ]
  },
  {
   "cell_type": "code",
   "execution_count": 43,
   "metadata": {
    "execution": {
     "iopub.execute_input": "2020-12-15T07:53:13.104068Z",
     "iopub.status.busy": "2020-12-15T07:53:13.103330Z",
     "iopub.status.idle": "2020-12-15T07:53:13.114627Z",
     "shell.execute_reply": "2020-12-15T07:53:13.114003Z"
    },
    "papermill": {
     "duration": 0.079982,
     "end_time": "2020-12-15T07:53:13.114748",
     "exception": false,
     "start_time": "2020-12-15T07:53:13.034766",
     "status": "completed"
    },
    "tags": []
   },
   "outputs": [],
   "source": [
    "bundle_agg = questions_df.groupby('bundle_id')['content_correctness'].agg(['mean'])\n",
    "questions_df['bundle_correctness'] = questions_df['bundle_id'].map(bundle_agg['mean'])\n",
    "questions_df.bundle_correctness=questions_df.bundle_correctness.astype('float16')"
   ]
  },
  {
   "cell_type": "code",
   "execution_count": 44,
   "metadata": {
    "execution": {
     "iopub.execute_input": "2020-12-15T07:53:13.236723Z",
     "iopub.status.busy": "2020-12-15T07:53:13.235891Z",
     "iopub.status.idle": "2020-12-15T07:53:13.245866Z",
     "shell.execute_reply": "2020-12-15T07:53:13.245176Z"
    },
    "papermill": {
     "duration": 0.073916,
     "end_time": "2020-12-15T07:53:13.245982",
     "exception": false,
     "start_time": "2020-12-15T07:53:13.172066",
     "status": "completed"
    },
    "tags": []
   },
   "outputs": [],
   "source": [
    "tags1_agg = questions_df.groupby('tags1')['content_correctness'].agg(['mean', 'var'])\n",
    "questions_df['tags1_correctness_mean'] = questions_df['tags1'].map(tags1_agg['mean'])\n",
    "questions_df['tags1_correctness_std'] = questions_df['tags1'].map(tags1_agg['var'])\n",
    "questions_df.tags1_correctness_mean=questions_df.tags1_correctness_mean.astype('float16')\n",
    "questions_df.tags1_correctness_std=questions_df.tags1_correctness_std.astype('float16')"
   ]
  },
  {
   "cell_type": "code",
   "execution_count": 45,
   "metadata": {
    "execution": {
     "iopub.execute_input": "2020-12-15T07:53:13.367346Z",
     "iopub.status.busy": "2020-12-15T07:53:13.364870Z",
     "iopub.status.idle": "2020-12-15T07:53:13.371477Z",
     "shell.execute_reply": "2020-12-15T07:53:13.370883Z"
    },
    "papermill": {
     "duration": 0.068665,
     "end_time": "2020-12-15T07:53:13.371609",
     "exception": false,
     "start_time": "2020-12-15T07:53:13.302944",
     "status": "completed"
    },
    "tags": []
   },
   "outputs": [],
   "source": [
    "questions_df.drop(columns=['content_correctness'], inplace=True)"
   ]
  },
  {
   "cell_type": "code",
   "execution_count": 46,
   "metadata": {
    "execution": {
     "iopub.execute_input": "2020-12-15T07:53:13.493152Z",
     "iopub.status.busy": "2020-12-15T07:53:13.492484Z",
     "iopub.status.idle": "2020-12-15T07:53:13.497699Z",
     "shell.execute_reply": "2020-12-15T07:53:13.497114Z"
    },
    "papermill": {
     "duration": 0.069154,
     "end_time": "2020-12-15T07:53:13.497814",
     "exception": false,
     "start_time": "2020-12-15T07:53:13.428660",
     "status": "completed"
    },
    "tags": []
   },
   "outputs": [
    {
     "data": {
      "text/plain": [
       "content_id                   int16\n",
       "bundle_id                    int16\n",
       "part                          int8\n",
       "part_bundle_id               int32\n",
       "tags1                        int16\n",
       "tags2                        int16\n",
       "tags3                        int16\n",
       "tags4                        int16\n",
       "tags5                        int16\n",
       "tags6                        int16\n",
       "content_correctness_std    float16\n",
       "part_correctness_mean      float16\n",
       "part_correctness_std       float16\n",
       "bundle_correctness         float16\n",
       "tags1_correctness_mean     float16\n",
       "tags1_correctness_std      float16\n",
       "dtype: object"
      ]
     },
     "execution_count": 46,
     "metadata": {},
     "output_type": "execute_result"
    }
   ],
   "source": [
    "questions_df.dtypes"
   ]
  },
  {
   "cell_type": "code",
   "execution_count": 47,
   "metadata": {
    "execution": {
     "iopub.execute_input": "2020-12-15T07:53:13.711037Z",
     "iopub.status.busy": "2020-12-15T07:53:13.709898Z",
     "iopub.status.idle": "2020-12-15T07:53:13.715330Z",
     "shell.execute_reply": "2020-12-15T07:53:13.716835Z"
    },
    "papermill": {
     "duration": 0.161612,
     "end_time": "2020-12-15T07:53:13.717064",
     "exception": false,
     "start_time": "2020-12-15T07:53:13.555452",
     "status": "completed"
    },
    "tags": []
   },
   "outputs": [
    {
     "data": {
      "text/plain": [
       "172"
      ]
     },
     "execution_count": 47,
     "metadata": {},
     "output_type": "execute_result"
    }
   ],
   "source": [
    "del bundle_agg\n",
    "del part_agg\n",
    "del tags1_agg\n",
    "gc.collect()"
   ]
  },
  {
   "cell_type": "code",
   "execution_count": 48,
   "metadata": {
    "execution": {
     "iopub.execute_input": "2020-12-15T07:53:13.854684Z",
     "iopub.status.busy": "2020-12-15T07:53:13.853974Z",
     "iopub.status.idle": "2020-12-15T07:53:13.857569Z",
     "shell.execute_reply": "2020-12-15T07:53:13.856862Z"
    },
    "papermill": {
     "duration": 0.069731,
     "end_time": "2020-12-15T07:53:13.857689",
     "exception": false,
     "start_time": "2020-12-15T07:53:13.787958",
     "status": "completed"
    },
    "tags": []
   },
   "outputs": [],
   "source": [
    "#pd.set_option(\"display.max_columns\",500)"
   ]
  },
  {
   "cell_type": "code",
   "execution_count": 49,
   "metadata": {
    "execution": {
     "iopub.execute_input": "2020-12-15T07:53:13.998606Z",
     "iopub.status.busy": "2020-12-15T07:53:13.997655Z",
     "iopub.status.idle": "2020-12-15T07:53:14.001344Z",
     "shell.execute_reply": "2020-12-15T07:53:14.000228Z"
    },
    "papermill": {
     "duration": 0.084695,
     "end_time": "2020-12-15T07:53:14.001509",
     "exception": false,
     "start_time": "2020-12-15T07:53:13.916814",
     "status": "completed"
    },
    "tags": []
   },
   "outputs": [],
   "source": [
    "#questions_df.drop(columns=['tags4','tags5','tags6'], inplace=True)"
   ]
  },
  {
   "cell_type": "code",
   "execution_count": 50,
   "metadata": {
    "execution": {
     "iopub.execute_input": "2020-12-15T07:53:14.137254Z",
     "iopub.status.busy": "2020-12-15T07:53:14.136141Z",
     "iopub.status.idle": "2020-12-15T07:53:14.141551Z",
     "shell.execute_reply": "2020-12-15T07:53:14.140939Z"
    },
    "papermill": {
     "duration": 0.073011,
     "end_time": "2020-12-15T07:53:14.141682",
     "exception": false,
     "start_time": "2020-12-15T07:53:14.068671",
     "status": "completed"
    },
    "tags": []
   },
   "outputs": [
    {
     "data": {
      "text/plain": [
       "99271300"
      ]
     },
     "execution_count": 50,
     "metadata": {},
     "output_type": "execute_result"
    }
   ],
   "source": [
    "len(train_df)"
   ]
  },
  {
   "cell_type": "code",
   "execution_count": 51,
   "metadata": {
    "execution": {
     "iopub.execute_input": "2020-12-15T07:53:14.275730Z",
     "iopub.status.busy": "2020-12-15T07:53:14.274696Z",
     "iopub.status.idle": "2020-12-15T07:53:16.942176Z",
     "shell.execute_reply": "2020-12-15T07:53:16.941517Z"
    },
    "papermill": {
     "duration": 2.734835,
     "end_time": "2020-12-15T07:53:16.942293",
     "exception": false,
     "start_time": "2020-12-15T07:53:14.207458",
     "status": "completed"
    },
    "tags": []
   },
   "outputs": [],
   "source": [
    "train_df['user_correctness'].fillna( 1, inplace=True)\n",
    "train_df['attempt_no'].fillna(1, inplace=True)\n",
    "#\n",
    "train_df.fillna(0, inplace=True)"
   ]
  },
  {
   "cell_type": "code",
   "execution_count": 52,
   "metadata": {
    "execution": {
     "iopub.execute_input": "2020-12-15T07:53:17.072817Z",
     "iopub.status.busy": "2020-12-15T07:53:17.072151Z",
     "iopub.status.idle": "2020-12-15T07:53:17.095273Z",
     "shell.execute_reply": "2020-12-15T07:53:17.095856Z"
    },
    "papermill": {
     "duration": 0.094065,
     "end_time": "2020-12-15T07:53:17.096023",
     "exception": false,
     "start_time": "2020-12-15T07:53:17.001958",
     "status": "completed"
    },
    "tags": []
   },
   "outputs": [
    {
     "data": {
      "text/html": [
       "<div>\n",
       "<style scoped>\n",
       "    .dataframe tbody tr th:only-of-type {\n",
       "        vertical-align: middle;\n",
       "    }\n",
       "\n",
       "    .dataframe tbody tr th {\n",
       "        vertical-align: top;\n",
       "    }\n",
       "\n",
       "    .dataframe thead th {\n",
       "        text-align: right;\n",
       "    }\n",
       "</style>\n",
       "<table border=\"1\" class=\"dataframe\">\n",
       "  <thead>\n",
       "    <tr style=\"text-align: right;\">\n",
       "      <th></th>\n",
       "      <th>timestamp</th>\n",
       "      <th>user_id</th>\n",
       "      <th>content_id</th>\n",
       "      <th>content_type_id</th>\n",
       "      <th>task_container_id</th>\n",
       "      <th>answered_correctly</th>\n",
       "      <th>prior_question_elapsed_time</th>\n",
       "      <th>prior_question_had_explanation</th>\n",
       "      <th>user_lecture_cumsum</th>\n",
       "      <th>user_lecture_lv</th>\n",
       "      <th>...</th>\n",
       "      <th>user_correct_cumcount</th>\n",
       "      <th>explanation_mean</th>\n",
       "      <th>explanation_cumsum</th>\n",
       "      <th>attempt_no</th>\n",
       "      <th>content_count</th>\n",
       "      <th>content_sum</th>\n",
       "      <th>content_correctness</th>\n",
       "      <th>task_container_sum</th>\n",
       "      <th>task_container_std</th>\n",
       "      <th>task_container_correctness</th>\n",
       "    </tr>\n",
       "  </thead>\n",
       "  <tbody>\n",
       "    <tr>\n",
       "      <th>0</th>\n",
       "      <td>0</td>\n",
       "      <td>115</td>\n",
       "      <td>5692</td>\n",
       "      <td>0</td>\n",
       "      <td>1</td>\n",
       "      <td>1</td>\n",
       "      <td>13005.081055</td>\n",
       "      <td>0</td>\n",
       "      <td>0</td>\n",
       "      <td>0.0</td>\n",
       "      <td>...</td>\n",
       "      <td>0</td>\n",
       "      <td>0.0</td>\n",
       "      <td>0</td>\n",
       "      <td>1</td>\n",
       "      <td>36514</td>\n",
       "      <td>27221</td>\n",
       "      <td>0.745605</td>\n",
       "      <td>208704</td>\n",
       "      <td>0.249268</td>\n",
       "      <td>0.527344</td>\n",
       "    </tr>\n",
       "    <tr>\n",
       "      <th>1</th>\n",
       "      <td>0</td>\n",
       "      <td>115</td>\n",
       "      <td>5716</td>\n",
       "      <td>0</td>\n",
       "      <td>2</td>\n",
       "      <td>1</td>\n",
       "      <td>37000.000000</td>\n",
       "      <td>0</td>\n",
       "      <td>0</td>\n",
       "      <td>0.0</td>\n",
       "      <td>...</td>\n",
       "      <td>1</td>\n",
       "      <td>0.0</td>\n",
       "      <td>0</td>\n",
       "      <td>1</td>\n",
       "      <td>23991</td>\n",
       "      <td>17631</td>\n",
       "      <td>0.734863</td>\n",
       "      <td>172342</td>\n",
       "      <td>0.245850</td>\n",
       "      <td>0.435791</td>\n",
       "    </tr>\n",
       "    <tr>\n",
       "      <th>2</th>\n",
       "      <td>0</td>\n",
       "      <td>115</td>\n",
       "      <td>128</td>\n",
       "      <td>0</td>\n",
       "      <td>0</td>\n",
       "      <td>1</td>\n",
       "      <td>55000.000000</td>\n",
       "      <td>0</td>\n",
       "      <td>0</td>\n",
       "      <td>0.0</td>\n",
       "      <td>...</td>\n",
       "      <td>2</td>\n",
       "      <td>0.0</td>\n",
       "      <td>0</td>\n",
       "      <td>1</td>\n",
       "      <td>19619</td>\n",
       "      <td>18969</td>\n",
       "      <td>0.966797</td>\n",
       "      <td>269233</td>\n",
       "      <td>0.217651</td>\n",
       "      <td>0.680176</td>\n",
       "    </tr>\n",
       "    <tr>\n",
       "      <th>3</th>\n",
       "      <td>0</td>\n",
       "      <td>115</td>\n",
       "      <td>7860</td>\n",
       "      <td>0</td>\n",
       "      <td>3</td>\n",
       "      <td>1</td>\n",
       "      <td>19000.000000</td>\n",
       "      <td>0</td>\n",
       "      <td>0</td>\n",
       "      <td>0.0</td>\n",
       "      <td>...</td>\n",
       "      <td>3</td>\n",
       "      <td>0.0</td>\n",
       "      <td>0</td>\n",
       "      <td>1</td>\n",
       "      <td>21733</td>\n",
       "      <td>20751</td>\n",
       "      <td>0.954590</td>\n",
       "      <td>214721</td>\n",
       "      <td>0.248169</td>\n",
       "      <td>0.542969</td>\n",
       "    </tr>\n",
       "    <tr>\n",
       "      <th>4</th>\n",
       "      <td>0</td>\n",
       "      <td>115</td>\n",
       "      <td>7922</td>\n",
       "      <td>0</td>\n",
       "      <td>4</td>\n",
       "      <td>1</td>\n",
       "      <td>11000.000000</td>\n",
       "      <td>0</td>\n",
       "      <td>0</td>\n",
       "      <td>0.0</td>\n",
       "      <td>...</td>\n",
       "      <td>4</td>\n",
       "      <td>0.0</td>\n",
       "      <td>0</td>\n",
       "      <td>1</td>\n",
       "      <td>19409</td>\n",
       "      <td>18501</td>\n",
       "      <td>0.953125</td>\n",
       "      <td>330079</td>\n",
       "      <td>0.249512</td>\n",
       "      <td>0.477051</td>\n",
       "    </tr>\n",
       "  </tbody>\n",
       "</table>\n",
       "<p>5 rows × 25 columns</p>\n",
       "</div>"
      ],
      "text/plain": [
       "   timestamp  user_id  content_id  content_type_id  task_container_id  \\\n",
       "0          0      115        5692                0                  1   \n",
       "1          0      115        5716                0                  2   \n",
       "2          0      115         128                0                  0   \n",
       "3          0      115        7860                0                  3   \n",
       "4          0      115        7922                0                  4   \n",
       "\n",
       "   answered_correctly  prior_question_elapsed_time  \\\n",
       "0                   1                 13005.081055   \n",
       "1                   1                 37000.000000   \n",
       "2                   1                 55000.000000   \n",
       "3                   1                 19000.000000   \n",
       "4                   1                 11000.000000   \n",
       "\n",
       "   prior_question_had_explanation  user_lecture_cumsum  user_lecture_lv  ...  \\\n",
       "0                               0                    0              0.0  ...   \n",
       "1                               0                    0              0.0  ...   \n",
       "2                               0                    0              0.0  ...   \n",
       "3                               0                    0              0.0  ...   \n",
       "4                               0                    0              0.0  ...   \n",
       "\n",
       "   user_correct_cumcount  explanation_mean  explanation_cumsum  attempt_no  \\\n",
       "0                      0               0.0                   0           1   \n",
       "1                      1               0.0                   0           1   \n",
       "2                      2               0.0                   0           1   \n",
       "3                      3               0.0                   0           1   \n",
       "4                      4               0.0                   0           1   \n",
       "\n",
       "   content_count  content_sum  content_correctness  task_container_sum  \\\n",
       "0          36514        27221             0.745605              208704   \n",
       "1          23991        17631             0.734863              172342   \n",
       "2          19619        18969             0.966797              269233   \n",
       "3          21733        20751             0.954590              214721   \n",
       "4          19409        18501             0.953125              330079   \n",
       "\n",
       "   task_container_std  task_container_correctness  \n",
       "0            0.249268                    0.527344  \n",
       "1            0.245850                    0.435791  \n",
       "2            0.217651                    0.680176  \n",
       "3            0.248169                    0.542969  \n",
       "4            0.249512                    0.477051  \n",
       "\n",
       "[5 rows x 25 columns]"
      ]
     },
     "execution_count": 52,
     "metadata": {},
     "output_type": "execute_result"
    }
   ],
   "source": [
    "train_df.head()"
   ]
  },
  {
   "cell_type": "code",
   "execution_count": 53,
   "metadata": {
    "execution": {
     "iopub.execute_input": "2020-12-15T07:53:17.222484Z",
     "iopub.status.busy": "2020-12-15T07:53:17.221758Z",
     "iopub.status.idle": "2020-12-15T07:53:17.224937Z",
     "shell.execute_reply": "2020-12-15T07:53:17.224373Z"
    },
    "papermill": {
     "duration": 0.06758,
     "end_time": "2020-12-15T07:53:17.225043",
     "exception": false,
     "start_time": "2020-12-15T07:53:17.157463",
     "status": "completed"
    },
    "tags": []
   },
   "outputs": [],
   "source": [
    "#train_df.drop(columns=['content_type_id'], inplace=True)"
   ]
  },
  {
   "cell_type": "code",
   "execution_count": 54,
   "metadata": {
    "execution": {
     "iopub.execute_input": "2020-12-15T07:53:17.352502Z",
     "iopub.status.busy": "2020-12-15T07:53:17.351793Z",
     "iopub.status.idle": "2020-12-15T07:53:17.357389Z",
     "shell.execute_reply": "2020-12-15T07:53:17.357913Z"
    },
    "papermill": {
     "duration": 0.073093,
     "end_time": "2020-12-15T07:53:17.358056",
     "exception": false,
     "start_time": "2020-12-15T07:53:17.284963",
     "status": "completed"
    },
    "tags": []
   },
   "outputs": [
    {
     "data": {
      "text/plain": [
       "timestamp                              int16\n",
       "user_id                                int32\n",
       "content_id                             int16\n",
       "content_type_id                         int8\n",
       "task_container_id                      int16\n",
       "answered_correctly                      int8\n",
       "prior_question_elapsed_time          float32\n",
       "prior_question_had_explanation          int8\n",
       "user_lecture_cumsum                     int8\n",
       "user_lecture_lv                      float16\n",
       "lagtime                                int32\n",
       "lagtime_mean                           int32\n",
       "delta_prior_question_elapsed_time      int32\n",
       "user_correctness                     float16\n",
       "user_correct_cumsum                    int16\n",
       "user_correct_cumcount                  int16\n",
       "explanation_mean                     float16\n",
       "explanation_cumsum                     int16\n",
       "attempt_no                              int8\n",
       "content_count                          int32\n",
       "content_sum                            int32\n",
       "content_correctness                  float16\n",
       "task_container_sum                     int32\n",
       "task_container_std                   float16\n",
       "task_container_correctness           float16\n",
       "dtype: object"
      ]
     },
     "execution_count": 54,
     "metadata": {},
     "output_type": "execute_result"
    }
   ],
   "source": [
    "train_df.dtypes"
   ]
  },
  {
   "cell_type": "markdown",
   "metadata": {
    "papermill": {
     "duration": 0.060904,
     "end_time": "2020-12-15T07:53:17.479354",
     "exception": false,
     "start_time": "2020-12-15T07:53:17.418450",
     "status": "completed"
    },
    "tags": []
   },
   "source": [
    "# SAKT Part I"
   ]
  },
  {
   "cell_type": "code",
   "execution_count": 55,
   "metadata": {
    "execution": {
     "iopub.execute_input": "2020-12-15T07:53:17.611569Z",
     "iopub.status.busy": "2020-12-15T07:53:17.610845Z",
     "iopub.status.idle": "2020-12-15T07:54:05.896406Z",
     "shell.execute_reply": "2020-12-15T07:54:05.897013Z"
    },
    "papermill": {
     "duration": 48.356134,
     "end_time": "2020-12-15T07:54:05.897174",
     "exception": false,
     "start_time": "2020-12-15T07:53:17.541040",
     "status": "completed"
    },
    "tags": []
   },
   "outputs": [
    {
     "name": "stdout",
     "output_type": "stream",
     "text": [
      "number skills 13523\n"
     ]
    },
    {
     "data": {
      "text/plain": [
       "0"
      ]
     },
     "execution_count": 55,
     "metadata": {},
     "output_type": "execute_result"
    }
   ],
   "source": [
    "#HDKIM \n",
    "\n",
    "MAX_SEQ = 160\n",
    "\n",
    "skills = train_df[\"content_id\"].unique()\n",
    "n_skill = len(skills)\n",
    "print(\"number skills\", len(skills))\n",
    "\n",
    "group = train_df[['user_id', 'content_id', 'answered_correctly']].groupby('user_id').apply(lambda r: (\n",
    "            r['content_id'].values,\n",
    "            r['answered_correctly'].values))\n",
    "\n",
    "for user_id in group.index:\n",
    "    q, qa = group[user_id]\n",
    "    if len(q)>MAX_SEQ:\n",
    "        group[user_id] = (q[-MAX_SEQ:],qa[-MAX_SEQ:])\n",
    "        \n",
    "import pickle\n",
    "pickle.dump(group, open(\"group.pkl\", \"wb\"))\n",
    "del group\n",
    "gc.collect()\n",
    "\n",
    "#HDKIMHDKIM\n"
   ]
  },
  {
   "cell_type": "markdown",
   "metadata": {
    "papermill": {
     "duration": 0.060563,
     "end_time": "2020-12-15T07:54:06.023434",
     "exception": false,
     "start_time": "2020-12-15T07:54:05.962871",
     "status": "completed"
    },
    "tags": []
   },
   "source": [
    "# Train"
   ]
  },
  {
   "cell_type": "code",
   "execution_count": 56,
   "metadata": {
    "execution": {
     "iopub.execute_input": "2020-12-15T07:54:06.150221Z",
     "iopub.status.busy": "2020-12-15T07:54:06.149199Z",
     "iopub.status.idle": "2020-12-15T07:54:06.158973Z",
     "shell.execute_reply": "2020-12-15T07:54:06.159510Z"
    },
    "papermill": {
     "duration": 0.075176,
     "end_time": "2020-12-15T07:54:06.159670",
     "exception": false,
     "start_time": "2020-12-15T07:54:06.084494",
     "status": "completed"
    },
    "tags": []
   },
   "outputs": [],
   "source": [
    "features = [\n",
    "#   'user_id',\n",
    "#HDKIM    'timestamp',\n",
    "    'lagtime',\n",
    "    'lagtime_mean',\n",
    "    'content_id',\n",
    "    'task_container_id',\n",
    "    'user_lecture_cumsum',\n",
    "    'user_lecture_lv',\n",
    "    'prior_question_elapsed_time',\n",
    "    'delta_prior_question_elapsed_time',\n",
    "    'user_correctness',\n",
    "    'user_correct_cumcount',\n",
    "    'user_correct_cumsum',\n",
    "    'content_correctness',\n",
    "    'content_correctness_std',\n",
    "    'content_count',\n",
    "    'content_sum',\n",
    "    'task_container_correctness',\n",
    "    'task_container_std',\n",
    "    'task_container_sum',\n",
    "    'bundle_correctness',\n",
    "    'attempt_no',\n",
    "    'part',\n",
    "    'part_correctness_mean',\n",
    "    'part_correctness_std',\n",
    "    'tags1',\n",
    "    'tags1_correctness_mean',\n",
    "    'tags1_correctness_std',\n",
    "#HDKIM    'tags2',\n",
    "#HDKIM    'tags3',\n",
    "#HDKIM    'tags4',\n",
    "#HDKIM    'tags5',\n",
    "#HDKIM    'tags6',\n",
    "    'bundle_id',\n",
    "    'part_bundle_id',\n",
    "    'explanation_mean', \n",
    "    'explanation_cumsum',\n",
    "    'prior_question_had_explanation',\n",
    "#     'part_1',\n",
    "#     'part_2',\n",
    "#     'part_3',\n",
    "#     'part_4',\n",
    "#     'part_5',\n",
    "#     'part_6',\n",
    "#     'part_7',\n",
    "#     'type_of_concept',\n",
    "#     'type_of_intention',\n",
    "#     'type_of_solving_question',\n",
    "#     'type_of_starter'\n",
    "]\n",
    "categorical_columns= [\n",
    "#   'user_id',\n",
    "    'content_id',\n",
    "    'task_container_id',\n",
    "    'part',        \n",
    "    'tags1',\n",
    "#HDKIM    'tags2',\n",
    "#HDKIM    'tags3',\n",
    "#HDKIM    'tags4',\n",
    "#HDKIM    'tags5',\n",
    "#HDKIM    'tags6',\n",
    "    'bundle_id',\n",
    "    'part_bundle_id',\n",
    "    'prior_question_had_explanation',\n",
    "#     'part_1',\n",
    "#     'part_2',\n",
    "#     'part_3',\n",
    "#     'part_4',\n",
    "#     'part_5',\n",
    "#     'part_6',\n",
    "#     'part_7',\n",
    "#     'type_of_concept',\n",
    "#     'type_of_intention',\n",
    "#     'type_of_solving_question',\n",
    "#     'type_of_starter'\n",
    "]\n",
    "\n",
    "\n"
   ]
  },
  {
   "cell_type": "code",
   "execution_count": 57,
   "metadata": {
    "execution": {
     "iopub.execute_input": "2020-12-15T07:54:06.286550Z",
     "iopub.status.busy": "2020-12-15T07:54:06.285470Z",
     "iopub.status.idle": "2020-12-15T07:54:34.162759Z",
     "shell.execute_reply": "2020-12-15T07:54:34.163299Z"
    },
    "papermill": {
     "duration": 27.943019,
     "end_time": "2020-12-15T07:54:34.163479",
     "exception": false,
     "start_time": "2020-12-15T07:54:06.220460",
     "status": "completed"
    },
    "tags": []
   },
   "outputs": [
    {
     "name": "stdout",
     "output_type": "stream",
     "text": [
      "sample end\n",
      "valid_df length： 2049842\n"
     ]
    }
   ],
   "source": [
    "flag_lgbm=True\n",
    "clfs = list()\n",
    "params = {\n",
    "'num_leaves': 350,\n",
    "'max_bin':700,\n",
    "'min_child_weight': 0.03454472573214212,\n",
    "'feature_fraction': 0.58,\n",
    "'bagging_fraction': 0.58,\n",
    "#'min_data_in_leaf': 106,\n",
    "'objective': 'binary',\n",
    "'max_depth': -1,\n",
    "'learning_rate': 0.05,\n",
    "\"boosting_type\": \"gbdt\",\n",
    "\"bagging_seed\": 11,\n",
    "\"metric\": 'auc',\n",
    "\"verbosity\": -1,\n",
    "'reg_alpha': 0.3899927210061127,\n",
    "'reg_lambda': 0.6485237330340494,\n",
    "'random_state': 47\n",
    "}\n",
    "trains=list()\n",
    "valids=list()\n",
    "num=1\n",
    "for i in range(0,num):\n",
    "  \n",
    "    #train_df=train_df.reset_index(drop=True)\n",
    "    train_df_clf=train_df.sample(n=1200*10000)\n",
    "    print('sample end')\n",
    "    #train_df.drop(train_df_clf.index, inplace=True)\n",
    "    #print('train_df drop end')\n",
    "    \n",
    "   \n",
    "    del train_df\n",
    "    \n",
    "    users=train_df_clf['user_id'].drop_duplicates()#去重\n",
    "    \n",
    "    users=users.sample(frac=0.025)\n",
    "    users_df=pd.DataFrame()\n",
    "    users_df['user_id']=users.values\n",
    "  \n",
    "  \n",
    "    valid_df_newuser = pd.merge(train_df_clf, users_df, on=['user_id'], how='inner',right_index=True)\n",
    "    del users_df\n",
    "    del users\n",
    "    gc.collect()\n",
    "    #\n",
    "    train_df_clf.drop(valid_df_newuser.index, inplace=True)\n",
    "   \n",
    "    #-----------\n",
    "    #train_df_clf=train_df_clf.sample(frac=0.2)\n",
    "    #train_df_clf.drop(valid_df_newuser.index, inplace=True)\n",
    "    train_df_clf = pd.merge(train_df_clf, questions_df, on='content_id', how='left',right_index=True)#\n",
    "    valid_df_newuser = pd.merge(valid_df_newuser, questions_df, on='content_id', how='left',right_index=True)#\n",
    "    \n",
    "#     train_df_clf = pd.merge(train_df_clf, user_lecture_stats_part, on='user_id', how=\"left\",right_index=True)\n",
    "#     valid_df_newuser = pd.merge(valid_df_newuser, user_lecture_stats_part, on='user_id', how=\"left\",right_index=True)\n",
    "\n",
    "    valid_df=train_df_clf.sample(frac=0.15)\n",
    "    train_df_clf.drop(valid_df.index, inplace=True)\n",
    "   \n",
    "    valid_df = valid_df.append(valid_df_newuser)\n",
    "    del valid_df_newuser\n",
    "    gc.collect()\n",
    "    #\n",
    "\n",
    "    trains.append(train_df_clf)\n",
    "    valids.append(valid_df)\n",
    "    print('valid_df length：',len(valid_df))\n",
    "    #train_df=train_df.reset_index(drop=True)"
   ]
  },
  {
   "cell_type": "code",
   "execution_count": 58,
   "metadata": {
    "execution": {
     "iopub.execute_input": "2020-12-15T07:54:34.292552Z",
     "iopub.status.busy": "2020-12-15T07:54:34.291464Z",
     "iopub.status.idle": "2020-12-15T07:54:34.377895Z",
     "shell.execute_reply": "2020-12-15T07:54:34.377285Z"
    },
    "papermill": {
     "duration": 0.152007,
     "end_time": "2020-12-15T07:54:34.378036",
     "exception": false,
     "start_time": "2020-12-15T07:54:34.226029",
     "status": "completed"
    },
    "tags": []
   },
   "outputs": [
    {
     "data": {
      "text/plain": [
       "20"
      ]
     },
     "execution_count": 58,
     "metadata": {},
     "output_type": "execute_result"
    }
   ],
   "source": [
    "#del train_df\n",
    "del train_df_clf\n",
    "del valid_df\n",
    "gc.collect()"
   ]
  },
  {
   "cell_type": "code",
   "execution_count": 59,
   "metadata": {
    "execution": {
     "iopub.execute_input": "2020-12-15T07:54:34.719841Z",
     "iopub.status.busy": "2020-12-15T07:54:34.511707Z",
     "iopub.status.idle": "2020-12-15T08:15:45.959680Z",
     "shell.execute_reply": "2020-12-15T08:15:45.958902Z"
    },
    "papermill": {
     "duration": 1271.519315,
     "end_time": "2020-12-15T08:15:45.959810",
     "exception": false,
     "start_time": "2020-12-15T07:54:34.440495",
     "status": "completed"
    },
    "tags": []
   },
   "outputs": [
    {
     "name": "stderr",
     "output_type": "stream",
     "text": [
      "/opt/conda/lib/python3.7/site-packages/lightgbm/basic.py:1295: UserWarning: categorical_feature in Dataset is overridden.\n",
      "New categorical_feature is ['bundle_id', 'content_id', 'part', 'part_bundle_id', 'prior_question_had_explanation', 'tags1', 'task_container_id']\n",
      "  'New categorical_feature is {}'.format(sorted(list(categorical_feature))))\n"
     ]
    },
    {
     "name": "stdout",
     "output_type": "stream",
     "text": [
      "Training until validation scores don't improve for 50 rounds\n",
      "[50]\ttraining's auc: 0.776539\tvalid_1's auc: 0.766272\n",
      "[100]\ttraining's auc: 0.787661\tvalid_1's auc: 0.769208\n",
      "[150]\ttraining's auc: 0.796459\tvalid_1's auc: 0.769899\n",
      "[200]\ttraining's auc: 0.803307\tvalid_1's auc: 0.770004\n",
      "[250]\ttraining's auc: 0.808625\tvalid_1's auc: 0.769792\n",
      "Early stopping, best iteration is:\n",
      "[201]\ttraining's auc: 0.803428\tvalid_1's auc: 0.770008\n"
     ]
    },
    {
     "data": {
      "image/png": "[encoded data removed]",
      "text/plain": [
       "<Figure size 432x288 with 1 Axes>"
      ]
     },
     "metadata": {
      "needs_background": "light"
     },
     "output_type": "display_data"
    }
   ],
   "source": [
    "\n",
    "for i in range(0,num):\n",
    "\n",
    "#     \n",
    "    tr_data = lgb.Dataset(trains[i][features], label=trains[i][target])\n",
    "    va_data = lgb.Dataset(valids[i][features], label=valids[i][target])\n",
    "    \n",
    "#     del train_df_clf\n",
    "#     del valid_df\n",
    "#     gc.collect()\n",
    "    del trains\n",
    "    del valids\n",
    "    gc.collect()\n",
    "\n",
    "    model = lgb.train(\n",
    "        params, \n",
    "        tr_data,\n",
    "#         train_df[features],\n",
    "#         train_df[target],\n",
    "        num_boost_round=5000,\n",
    "        #valid_sets=[(train_df[features],train_df[target]), (valid_df[features],valid_df[target])], \n",
    "        valid_sets=[tr_data, va_data],\n",
    "        early_stopping_rounds=50,\n",
    "        feature_name=features,\n",
    "        categorical_feature=categorical_columns,\n",
    "        verbose_eval=50\n",
    "    )\n",
    "    clfs.append(model)\n",
    "    #print('auc:', roc_auc_score(valid_df[target], model.predict(valid_df[features])))\n",
    "    #model.save_model(f'model.txt')\n",
    "    lgb.plot_importance(model, importance_type='gain')\n",
    "    plt.show()\n",
    "\n",
    "    del tr_data\n",
    "    del va_data\n",
    "    gc.collect()\n",
    "#    \n",
    "# del trains\n",
    "# del valids\n",
    "# gc.collect()"
   ]
  },
  {
   "cell_type": "markdown",
   "metadata": {
    "papermill": {
     "duration": 0.075501,
     "end_time": "2020-12-15T08:15:46.125382",
     "exception": false,
     "start_time": "2020-12-15T08:15:46.049881",
     "status": "completed"
    },
    "tags": []
   },
   "source": [
    "# Inference"
   ]
  },
  {
   "cell_type": "code",
   "execution_count": 60,
   "metadata": {
    "execution": {
     "iopub.execute_input": "2020-12-15T08:15:46.279213Z",
     "iopub.status.busy": "2020-12-15T08:15:46.278068Z",
     "iopub.status.idle": "2020-12-15T08:15:47.385733Z",
     "shell.execute_reply": "2020-12-15T08:15:47.386229Z"
    },
    "papermill": {
     "duration": 1.190991,
     "end_time": "2020-12-15T08:15:47.386405",
     "exception": false,
     "start_time": "2020-12-15T08:15:46.195414",
     "status": "completed"
    },
    "tags": []
   },
   "outputs": [
    {
     "data": {
      "text/plain": [
       "0"
      ]
     },
     "execution_count": 60,
     "metadata": {},
     "output_type": "execute_result"
    }
   ],
   "source": [
    "user_sum_dict = user_agg['sum'].astype('int16').to_dict(defaultdict(int))\n",
    "user_count_dict = user_agg['count'].astype('int16').to_dict(defaultdict(int))\n",
    "content_sum_dict = content_agg['sum'].astype('int32').to_dict(defaultdict(int))\n",
    "content_count_dict = content_agg['count'].astype('int32').to_dict(defaultdict(int))\n",
    "\n",
    "del user_agg\n",
    "del content_agg\n",
    "gc.collect()\n",
    "\n",
    "task_container_sum_dict = task_container_agg['sum'].astype('int32').to_dict(defaultdict(int))\n",
    "task_container_count_dict = task_container_agg['count'].astype('int32').to_dict(defaultdict(int))\n",
    "task_container_std_dict = task_container_agg['var'].astype('float16').to_dict(defaultdict(int))\n",
    "\n",
    "explanation_sum_dict = explanation_agg['sum'].astype('int16').to_dict(defaultdict(int))\n",
    "explanation_count_dict = explanation_agg['count'].astype('int16').to_dict(defaultdict(int))\n",
    "del task_container_agg\n",
    "del explanation_agg\n",
    "gc.collect()"
   ]
  },
  {
   "cell_type": "code",
   "execution_count": 61,
   "metadata": {
    "execution": {
     "iopub.execute_input": "2020-12-15T08:15:47.530787Z",
     "iopub.status.busy": "2020-12-15T08:15:47.529772Z",
     "iopub.status.idle": "2020-12-15T08:15:48.311304Z",
     "shell.execute_reply": "2020-12-15T08:15:48.310680Z"
    },
    "papermill": {
     "duration": 0.856959,
     "end_time": "2020-12-15T08:15:48.311491",
     "exception": false,
     "start_time": "2020-12-15T08:15:47.454532",
     "status": "completed"
    },
    "tags": []
   },
   "outputs": [
    {
     "data": {
      "text/plain": [
       "20"
      ]
     },
     "execution_count": 61,
     "metadata": {},
     "output_type": "execute_result"
    }
   ],
   "source": [
    "user_lecture_sum_dict = user_lecture_agg['sum'].astype('int16').to_dict(defaultdict(int))\n",
    "user_lecture_count_dict = user_lecture_agg['count'].astype('int16').to_dict(defaultdict(int))\n",
    "\n",
    "lagtime_mean_dict = lagtime_agg['mean'].astype('int32').to_dict(defaultdict(int))\n",
    "#del prior_question_elapsed_time_agg\n",
    "del user_lecture_agg\n",
    "del lagtime_agg\n",
    "gc.collect()"
   ]
  },
  {
   "cell_type": "code",
   "execution_count": 62,
   "metadata": {
    "execution": {
     "iopub.execute_input": "2020-12-15T08:15:48.458856Z",
     "iopub.status.busy": "2020-12-15T08:15:48.457178Z",
     "iopub.status.idle": "2020-12-15T08:16:04.249417Z",
     "shell.execute_reply": "2020-12-15T08:16:04.249911Z"
    },
    "papermill": {
     "duration": 15.868818,
     "end_time": "2020-12-15T08:16:04.250093",
     "exception": false,
     "start_time": "2020-12-15T08:15:48.381275",
     "status": "completed"
    },
    "tags": []
   },
   "outputs": [
    {
     "data": {
      "text/plain": [
       "0"
      ]
     },
     "execution_count": 62,
     "metadata": {},
     "output_type": "execute_result"
    }
   ],
   "source": [
    "attempt_no_agg=attempt_no_agg[attempt_no_agg['sum'] >1]\n",
    "attempt_no_sum_dict = attempt_no_agg['sum'].to_dict(defaultdict(int))\n",
    "\n",
    "del attempt_no_agg\n",
    "gc.collect()"
   ]
  },
  {
   "cell_type": "code",
   "execution_count": 63,
   "metadata": {
    "execution": {
     "iopub.execute_input": "2020-12-15T08:16:04.395446Z",
     "iopub.status.busy": "2020-12-15T08:16:04.394587Z",
     "iopub.status.idle": "2020-12-15T08:16:05.183810Z",
     "shell.execute_reply": "2020-12-15T08:16:05.183204Z"
    },
    "papermill": {
     "duration": 0.864329,
     "end_time": "2020-12-15T08:16:05.183932",
     "exception": false,
     "start_time": "2020-12-15T08:16:04.319603",
     "status": "completed"
    },
    "tags": []
   },
   "outputs": [
    {
     "data": {
      "text/plain": [
       "20"
      ]
     },
     "execution_count": 63,
     "metadata": {},
     "output_type": "execute_result"
    }
   ],
   "source": [
    "max_timestamp_u_dict=max_timestamp_u.set_index('user_id').to_dict()\n",
    "user_prior_question_elapsed_time_dict=user_prior_question_elapsed_time.set_index('user_id').to_dict()\n",
    "#del question_elapsed_time_agg\n",
    "del max_timestamp_u\n",
    "del user_prior_question_elapsed_time\n",
    "gc.collect()"
   ]
  },
  {
   "cell_type": "code",
   "execution_count": 64,
   "metadata": {
    "execution": {
     "iopub.execute_input": "2020-12-15T08:16:05.332507Z",
     "iopub.status.busy": "2020-12-15T08:16:05.331475Z",
     "iopub.status.idle": "2020-12-15T08:16:05.334908Z",
     "shell.execute_reply": "2020-12-15T08:16:05.335446Z"
    },
    "papermill": {
     "duration": 0.081361,
     "end_time": "2020-12-15T08:16:05.335599",
     "exception": false,
     "start_time": "2020-12-15T08:16:05.254238",
     "status": "completed"
    },
    "tags": []
   },
   "outputs": [
    {
     "data": {
      "text/plain": [
       "393656"
      ]
     },
     "execution_count": 64,
     "metadata": {},
     "output_type": "execute_result"
    }
   ],
   "source": [
    "len(max_timestamp_u_dict['max_time_stamp'])"
   ]
  },
  {
   "cell_type": "code",
   "execution_count": 65,
   "metadata": {
    "execution": {
     "iopub.execute_input": "2020-12-15T08:16:05.482994Z",
     "iopub.status.busy": "2020-12-15T08:16:05.482117Z",
     "iopub.status.idle": "2020-12-15T08:16:05.485256Z",
     "shell.execute_reply": "2020-12-15T08:16:05.484659Z"
    },
    "papermill": {
     "duration": 0.079718,
     "end_time": "2020-12-15T08:16:05.485403",
     "exception": false,
     "start_time": "2020-12-15T08:16:05.405685",
     "status": "completed"
    },
    "tags": []
   },
   "outputs": [],
   "source": [
    "def get_max_attempt(user_id,content_id):\n",
    "    k = (user_id,content_id)\n",
    "\n",
    "    if k in attempt_no_sum_dict.keys():\n",
    "        attempt_no_sum_dict[k]+=1\n",
    "        return attempt_no_sum_dict[k]\n",
    "\n",
    "    attempt_no_sum_dict[k] = 1\n",
    "    return attempt_no_sum_dict[k]"
   ]
  },
  {
   "cell_type": "code",
   "execution_count": 66,
   "metadata": {
    "execution": {
     "iopub.execute_input": "2020-12-15T08:16:05.634196Z",
     "iopub.status.busy": "2020-12-15T08:16:05.633442Z",
     "iopub.status.idle": "2020-12-15T08:16:05.637654Z",
     "shell.execute_reply": "2020-12-15T08:16:05.638142Z"
    },
    "papermill": {
     "duration": 0.081626,
     "end_time": "2020-12-15T08:16:05.638298",
     "exception": false,
     "start_time": "2020-12-15T08:16:05.556672",
     "status": "completed"
    },
    "tags": []
   },
   "outputs": [
    {
     "name": "stdout",
     "output_type": "stream",
     "text": [
      "58.6\n"
     ]
    }
   ],
   "source": [
    "print(psutil.virtual_memory().percent)"
   ]
  },
  {
   "cell_type": "markdown",
   "metadata": {
    "papermill": {
     "duration": 0.070662,
     "end_time": "2020-12-15T08:16:05.780474",
     "exception": false,
     "start_time": "2020-12-15T08:16:05.709812",
     "status": "completed"
    },
    "tags": []
   },
   "source": [
    "# SAKT Part II"
   ]
  },
  {
   "cell_type": "code",
   "execution_count": 67,
   "metadata": {
    "execution": {
     "iopub.execute_input": "2020-12-15T08:16:05.962259Z",
     "iopub.status.busy": "2020-12-15T08:16:05.926846Z",
     "iopub.status.idle": "2020-12-15T08:16:10.059297Z",
     "shell.execute_reply": "2020-12-15T08:16:10.059874Z"
    },
    "papermill": {
     "duration": 4.208704,
     "end_time": "2020-12-15T08:16:10.060034",
     "exception": false,
     "start_time": "2020-12-15T08:16:05.851330",
     "status": "completed"
    },
    "tags": []
   },
   "outputs": [
    {
     "name": "stdout",
     "output_type": "stream",
     "text": [
      "60.9\n"
     ]
    }
   ],
   "source": [
    "#HDKIM SAKT\n",
    "import torch\n",
    "import torch.nn as nn\n",
    "from torch.utils.data import Dataset, DataLoader\n",
    "\n",
    "class FFN(nn.Module):\n",
    "    def __init__(self, state_size=200):\n",
    "        super(FFN, self).__init__()\n",
    "        self.state_size = state_size\n",
    "\n",
    "        self.lr1 = nn.Linear(state_size, state_size)\n",
    "        self.relu = nn.ReLU()\n",
    "        self.lr2 = nn.Linear(state_size, state_size)\n",
    "        self.dropout = nn.Dropout(0.2)\n",
    "    \n",
    "    def forward(self, x):\n",
    "        x = self.lr1(x)\n",
    "        x = self.relu(x)\n",
    "        x = self.lr2(x)\n",
    "        return self.dropout(x)\n",
    "\n",
    "def future_mask(seq_length):\n",
    "    future_mask = np.triu(np.ones((seq_length, seq_length)), k=1).astype('bool')\n",
    "    return torch.from_numpy(future_mask)\n",
    "\n",
    "class SAKTModel(nn.Module):\n",
    "    def __init__(self, n_skill, max_seq=MAX_SEQ, embed_dim=128): #HDKIM 100\n",
    "        super(SAKTModel, self).__init__()\n",
    "        self.n_skill = n_skill\n",
    "        self.embed_dim = embed_dim\n",
    "\n",
    "        self.embedding = nn.Embedding(2*n_skill+1, embed_dim)\n",
    "        self.pos_embedding = nn.Embedding(max_seq-1, embed_dim)\n",
    "        self.e_embedding = nn.Embedding(n_skill+1, embed_dim)\n",
    "\n",
    "        self.multi_att = nn.MultiheadAttention(embed_dim=embed_dim, num_heads=8, dropout=0.2)\n",
    "\n",
    "        self.dropout = nn.Dropout(0.2)\n",
    "        self.layer_normal = nn.LayerNorm(embed_dim) \n",
    "\n",
    "        self.ffn = FFN(embed_dim)\n",
    "        self.pred = nn.Linear(embed_dim, 1)\n",
    "    \n",
    "    def forward(self, x, question_ids):\n",
    "        device = x.device        \n",
    "        x = self.embedding(x)\n",
    "        pos_id = torch.arange(x.size(1)).unsqueeze(0).to(device)\n",
    "\n",
    "        pos_x = self.pos_embedding(pos_id)\n",
    "        x = x + pos_x\n",
    "\n",
    "        e = self.e_embedding(question_ids)\n",
    "\n",
    "        x = x.permute(1, 0, 2) # x: [bs, s_len, embed] => [s_len, bs, embed]\n",
    "        e = e.permute(1, 0, 2)\n",
    "        att_mask = future_mask(x.size(0)).to(device)\n",
    "        att_output, att_weight = self.multi_att(e, x, x, attn_mask=att_mask)\n",
    "        att_output = self.layer_normal(att_output + e)\n",
    "        att_output = att_output.permute(1, 0, 2) # att_output: [s_len, bs, embed] => [bs, s_len, embed]\n",
    "\n",
    "        x = self.ffn(att_output)\n",
    "        x = self.layer_normal(x + att_output)\n",
    "        x = self.pred(x)\n",
    "\n",
    "        return x.squeeze(-1), att_weight\n",
    "    \n",
    "class TestDataset(Dataset):\n",
    "    def __init__(self, samples, test_df, skills, max_seq=MAX_SEQ): #HDKIM 100\n",
    "        super(TestDataset, self).__init__()\n",
    "        self.samples = samples\n",
    "        self.user_ids = [x for x in test_df[\"user_id\"].unique()]\n",
    "        self.test_df = test_df\n",
    "        self.skills = skills\n",
    "        self.n_skill = len(skills)\n",
    "        self.max_seq = max_seq\n",
    "\n",
    "    def __len__(self):\n",
    "        return self.test_df.shape[0]\n",
    "\n",
    "    def __getitem__(self, index):\n",
    "        test_info = self.test_df.iloc[index]\n",
    "\n",
    "        user_id = test_info[\"user_id\"]\n",
    "        target_id = test_info[\"content_id\"]\n",
    "\n",
    "        q = np.zeros(self.max_seq, dtype=int)\n",
    "        qa = np.zeros(self.max_seq, dtype=int)\n",
    "\n",
    "        if user_id in self.samples.index:\n",
    "            q_, qa_ = self.samples[user_id]\n",
    "            \n",
    "            seq_len = len(q_)\n",
    "\n",
    "            if seq_len >= self.max_seq:\n",
    "                q = q_[-self.max_seq:]\n",
    "                qa = qa_[-self.max_seq:]\n",
    "            else:\n",
    "                q[-seq_len:] = q_\n",
    "                qa[-seq_len:] = qa_          \n",
    "        \n",
    "        x = np.zeros(self.max_seq-1, dtype=int)\n",
    "        x = q[1:].copy()\n",
    "        x += (qa[1:] == 1) * self.n_skill\n",
    "        \n",
    "        questions = np.append(q[2:], [target_id])\n",
    "        \n",
    "        return x, questions\n",
    "\n",
    "device = torch.device(\"cuda\" if torch.cuda.is_available() else \"cpu\")\n",
    "SAKT_model = SAKTModel(n_skill, embed_dim=128)\n",
    "\n",
    "try:\n",
    "    SAKT_model.load_state_dict(torch.load(\"../input/sakt-with-randomization-state-updates/SAKT-HDKIM.pt\"))\n",
    "except:\n",
    "    SAKT_model.load_state_dict(torch.load(\"../input/sakt-with-randomization-state-updates/SAKT-HDKIM.pt\", map_location='cpu'))\n",
    "\n",
    "SAKT_model.to(device)\n",
    "SAKT_model.eval()\n",
    "\n",
    "import pickle\n",
    "group = pickle.load(open(\"group.pkl\", \"rb\"))\n",
    "\n",
    "print(psutil.virtual_memory().percent)\n",
    "\n",
    "#HDKIMHDKIM"
   ]
  },
  {
   "cell_type": "code",
   "execution_count": 68,
   "metadata": {
    "execution": {
     "iopub.execute_input": "2020-12-15T08:16:10.209819Z",
     "iopub.status.busy": "2020-12-15T08:16:10.209092Z",
     "iopub.status.idle": "2020-12-15T08:16:10.212682Z",
     "shell.execute_reply": "2020-12-15T08:16:10.211992Z"
    },
    "papermill": {
     "duration": 0.080262,
     "end_time": "2020-12-15T08:16:10.212814",
     "exception": false,
     "start_time": "2020-12-15T08:16:10.132552",
     "status": "completed"
    },
    "tags": []
   },
   "outputs": [],
   "source": [
    "# model = lgb.Booster(model_file='../input/riiid-lgbm-starter/model.txt')\n",
    "env = riiideducation.make_env()"
   ]
  },
  {
   "cell_type": "code",
   "execution_count": 69,
   "metadata": {
    "execution": {
     "iopub.execute_input": "2020-12-15T08:16:10.361640Z",
     "iopub.status.busy": "2020-12-15T08:16:10.360573Z",
     "iopub.status.idle": "2020-12-15T08:16:10.363765Z",
     "shell.execute_reply": "2020-12-15T08:16:10.363141Z"
    },
    "papermill": {
     "duration": 0.079666,
     "end_time": "2020-12-15T08:16:10.363874",
     "exception": false,
     "start_time": "2020-12-15T08:16:10.284208",
     "status": "completed"
    },
    "tags": []
   },
   "outputs": [],
   "source": [
    "iter_test = env.iter_test()\n",
    "prior_test_df = None"
   ]
  },
  {
   "cell_type": "code",
   "execution_count": 70,
   "metadata": {
    "execution": {
     "iopub.execute_input": "2020-12-15T08:16:10.541851Z",
     "iopub.status.busy": "2020-12-15T08:16:10.540995Z",
     "iopub.status.idle": "2020-12-15T08:16:11.681387Z",
     "shell.execute_reply": "2020-12-15T08:16:11.681920Z"
    },
    "papermill": {
     "duration": 1.24635,
     "end_time": "2020-12-15T08:16:11.682095",
     "exception": false,
     "start_time": "2020-12-15T08:16:10.435745",
     "status": "completed"
    },
    "tags": []
   },
   "outputs": [
    {
     "name": "stdout",
     "output_type": "stream",
     "text": [
      "60.9\n",
      "60.9\n",
      "60.9\n",
      "CPU times: user 1.24 s, sys: 92.1 ms, total: 1.33 s\n",
      "Wall time: 1.14 s\n"
     ]
    }
   ],
   "source": [
    "%%time\n",
    "\n",
    "for (test_df, sample_prediction_df) in iter_test:    \n",
    "    if (prior_test_df is not None) & (psutil.virtual_memory().percent<90):\n",
    "        print(psutil.virtual_memory().percent)\n",
    "        prior_test_df[target] = eval(test_df['prior_group_answers_correct'].iloc[0])\n",
    "        prior_test_df = prior_test_df[prior_test_df[target] != -1].reset_index(drop=True)       \n",
    "        prior_test_df['prior_question_had_explanation'].fillna(False, inplace=True)       \n",
    "        prior_test_df.prior_question_had_explanation=prior_test_df.prior_question_had_explanation.astype('int8')\n",
    "        \n",
    "        #HDKIM SAKT State Update\n",
    "        prev_group = prior_test_df[['user_id', 'content_id', 'answered_correctly']].groupby('user_id').apply(lambda r: (\n",
    "            r['content_id'].values,\n",
    "            r['answered_correctly'].values))\n",
    "        for prev_user_id in prev_group.index:\n",
    "            prev_group_content = prev_group[prev_user_id][0]\n",
    "            prev_group_ac = prev_group[prev_user_id][1]\n",
    "            if prev_user_id in group.index:\n",
    "                group[prev_user_id] = (np.append(group[prev_user_id][0],prev_group_content), \n",
    "                                       np.append(group[prev_user_id][1],prev_group_ac))\n",
    "            else:\n",
    "                group[prev_user_id] = (prev_group_content,prev_group_ac)\n",
    "            if len(group[prev_user_id][0])>MAX_SEQ:\n",
    "                new_group_content = group[prev_user_id][0][-MAX_SEQ:]\n",
    "                new_group_ac = group[prev_user_id][1][-MAX_SEQ:]\n",
    "                group[prev_user_id] = (new_group_content,new_group_ac)\n",
    "\n",
    "        #HDKIMHDKIM\n",
    "    \n",
    "        user_ids = prior_test_df['user_id'].values\n",
    "        content_ids = prior_test_df['content_id'].values\n",
    "        task_container_ids = prior_test_df['task_container_id'].values\n",
    "        prior_question_had_explanations = prior_test_df['prior_question_had_explanation'].values\n",
    "        targets = prior_test_df[target].values\n",
    "       \n",
    "        for user_id, content_id,prior_question_had_explanation,task_container_id,answered_correctly in zip(user_ids, content_ids, prior_question_had_explanations,task_container_ids,targets):\n",
    "            user_sum_dict[user_id] += answered_correctly\n",
    "            user_count_dict[user_id] += 1         \n",
    "            explanation_sum_dict[user_id] += prior_question_had_explanation\n",
    "            explanation_count_dict[user_id] += 1\n",
    "            \n",
    "\n",
    "    prior_test_df = test_df.copy()\n",
    "    lecture_test_df = test_df[test_df['content_type_id'] == 1].reset_index(drop=True)\n",
    "    \n",
    "    for i, (user_id,content_type_id, content_id) in enumerate(zip(lecture_test_df['user_id'].values,lecture_test_df['content_type_id'].values,lecture_test_df['content_id'].values)):\n",
    "      \n",
    "        user_lecture_sum_dict[user_id] += content_type_id\n",
    "        user_lecture_count_dict[user_id] += 1\n",
    "        #\n",
    "        if(len(user_lecture_stats_part[user_lecture_stats_part.user_id==user_id])==0):\n",
    "            user_lecture_stats_part = user_lecture_stats_part.append([{'user_id':user_id}], ignore_index=True)\n",
    "            user_lecture_stats_part.fillna(0, inplace=True)\n",
    "            user_lecture_stats_part.loc[user_lecture_stats_part.user_id==user_id,part_lectures_columns + types_of_lectures_columns]+=lectures_df[lectures_df.lecture_id==content_id][part_lectures_columns + types_of_lectures_columns].values\n",
    "        else:\n",
    "            user_lecture_stats_part.loc[user_lecture_stats_part.user_id==user_id,part_lectures_columns + types_of_lectures_columns]+=lectures_df[lectures_df.lecture_id==content_id][part_lectures_columns + types_of_lectures_columns].values\n",
    "  \n",
    "        \n",
    "    test_df = test_df[test_df['content_type_id'] == 0].reset_index(drop=True)\n",
    "   \n",
    "    #HDKIM SAKT\n",
    "    test_dataset = TestDataset(group, test_df, skills)\n",
    "    test_dataloader = DataLoader(test_dataset, batch_size=51200, shuffle=False)\n",
    "    \n",
    "    SAKT_outs = []\n",
    "\n",
    "    for item in test_dataloader:\n",
    "        x = item[0].to(device).long()\n",
    "        target_id = item[1].to(device).long()\n",
    "\n",
    "        with torch.no_grad():\n",
    "            output, att_weight = SAKT_model(x, target_id)\n",
    " \n",
    "        output = torch.sigmoid(output)\n",
    "        output = output[:, -1]\n",
    "        SAKT_outs.extend(output.view(-1).data.cpu().numpy())\n",
    "    \n",
    "    #HDKIMHDKIM\n",
    "\n",
    "    test_df['prior_question_had_explanation'].fillna(False, inplace=True)\n",
    "    test_df.prior_question_had_explanation=test_df.prior_question_had_explanation.astype('int8')\n",
    "    test_df['prior_question_elapsed_time'].fillna(prior_question_elapsed_time_mean, inplace=True)\n",
    "    \n",
    "\n",
    "    user_lecture_sum = np.zeros(len(test_df), dtype=np.int16)\n",
    "    user_lecture_count = np.zeros(len(test_df), dtype=np.int16) \n",
    "    \n",
    "    user_sum = np.zeros(len(test_df), dtype=np.int16)\n",
    "    user_count = np.zeros(len(test_df), dtype=np.int16)\n",
    "    content_sum = np.zeros(len(test_df), dtype=np.int32)\n",
    "    content_count = np.zeros(len(test_df), dtype=np.int32)\n",
    "    task_container_sum = np.zeros(len(test_df), dtype=np.int32)\n",
    "    task_container_count = np.zeros(len(test_df), dtype=np.int32)\n",
    "    task_container_std = np.zeros(len(test_df), dtype=np.float16)\n",
    "    content_task_mean = np.zeros(len(test_df), dtype=np.float16)\n",
    "    explanation_sum = np.zeros(len(test_df), dtype=np.int32)\n",
    "    explanation_count = np.zeros(len(test_df), dtype=np.int32)\n",
    "    delta_prior_question_elapsed_time = np.zeros(len(test_df), dtype=np.int32)\n",
    "\n",
    "    attempt_no_count = np.zeros(len(test_df), dtype=np.int16)\n",
    "    lagtime = np.zeros(len(test_df), dtype=np.int32)\n",
    "    lagtime_mean = np.zeros(len(test_df), dtype=np.int32)\n",
    "   \n",
    "    \n",
    "    for i, (user_id,prior_question_had_explanation,content_type_id,prior_question_elapsed_time,timestamp, content_id,task_container_id) in enumerate(zip(test_df['user_id'].values,test_df['prior_question_had_explanation'].values,test_df['content_type_id'].values,test_df['prior_question_elapsed_time'].values,test_df['timestamp'].values, test_df['content_id'].values, test_df['task_container_id'].values)):\n",
    "         \n",
    "        user_lecture_sum_dict[user_id] += content_type_id\n",
    "        user_lecture_count_dict[user_id] += 1\n",
    "        \n",
    "        user_lecture_sum[i] = user_lecture_sum_dict[user_id]\n",
    "        user_lecture_count[i] = user_lecture_count_dict[user_id]\n",
    "        \n",
    "        user_sum[i] = user_sum_dict[user_id]\n",
    "        user_count[i] = user_count_dict[user_id]\n",
    "        content_sum[i] = content_sum_dict[content_id]\n",
    "        content_count[i] = content_count_dict[content_id]\n",
    "        task_container_sum[i] = task_container_sum_dict[task_container_id]\n",
    "        task_container_count[i] = task_container_count_dict[task_container_id]\n",
    "        task_container_std[i]=task_container_std_dict[task_container_id]\n",
    "      \n",
    "        explanation_sum[i] = explanation_sum_dict[user_id]\n",
    "        explanation_count[i] = explanation_count_dict[user_id]\n",
    "  \n",
    "        if user_id in max_timestamp_u_dict['max_time_stamp'].keys():\n",
    "            lagtime[i]=timestamp-max_timestamp_u_dict['max_time_stamp'][user_id]\n",
    "            max_timestamp_u_dict['max_time_stamp'][user_id]=timestamp\n",
    "            lagtime_mean[i]=(lagtime_mean_dict[user_id]+lagtime[i])/2           \n",
    "        else:\n",
    "            lagtime[i]=0\n",
    "            max_timestamp_u_dict['max_time_stamp'].update({user_id:timestamp})\n",
    "            lagtime_mean_dict.update({user_id:timestamp})\n",
    "            lagtime_mean[i]=(lagtime_mean_dict[user_id]+lagtime[i])/2\n",
    "            \n",
    "        if user_id in user_prior_question_elapsed_time_dict['prior_question_elapsed_time'].keys():            \n",
    "            delta_prior_question_elapsed_time[i]=prior_question_elapsed_time-user_prior_question_elapsed_time_dict['prior_question_elapsed_time'][user_id]\n",
    "            user_prior_question_elapsed_time_dict['prior_question_elapsed_time'][user_id]=prior_question_elapsed_time\n",
    "        else:           \n",
    "            delta_prior_question_elapsed_time[i]=0    \n",
    "            user_prior_question_elapsed_time_dict['prior_question_elapsed_time'].update({user_id:prior_question_elapsed_time})\n",
    "           \n",
    "        \n",
    "        \n",
    "    \n",
    "    #\n",
    "    #test_df = pd.merge(test_df, questions_df, on='content_id', how='left',right_index=True)    \n",
    "    #test_df = pd.concat([test_df.reset_index(drop=True), questions_df.reindex(test_df['content_id'].values).reset_index(drop=True)], axis=1)\n",
    "    test_df=test_df.merge(questions_df.loc[questions_df.index.isin(test_df['content_id'])],\n",
    "                  how='left', on='content_id', right_index=True)\n",
    "    \n",
    "    #test_df = pd.merge(test_df, user_lecture_stats_part, on=['user_id'], how=\"left\",right_index=True)\n",
    "    #test_df = pd.concat([test_df.reset_index(drop=True), user_lecture_stats_part.reindex(test_df['user_id'].values).reset_index(drop=True)], axis=1)\n",
    "#     test_df=test_df.merge(user_lecture_stats_part.loc[user_lecture_stats_part.index.isin(test_df['user_id'])],\n",
    "#                   how='left', on='user_id', right_index=True)\n",
    " \n",
    "    test_df['user_lecture_lv'] = user_lecture_sum / user_lecture_count\n",
    "    test_df['user_lecture_cumsum'] = user_lecture_sum\n",
    "    test_df['user_correctness'] = user_sum / user_count\n",
    "    test_df['user_correct_cumcount'] =user_count\n",
    "    test_df['user_correct_cumsum'] =user_sum\n",
    "    #\n",
    "    test_df['content_correctness'] = content_sum / content_count\n",
    "    test_df['content_count'] = content_count\n",
    "    test_df['content_sum'] = content_sum\n",
    "    \n",
    "    test_df['task_container_correctness'] = task_container_sum / task_container_count\n",
    "    test_df['task_container_sum'] = task_container_sum \n",
    "    test_df['task_container_std'] = task_container_std \n",
    "    #test_df['content_task_mean'] = content_task_mean \n",
    "    \n",
    "    test_df['explanation_mean'] = explanation_sum / explanation_count\n",
    "    test_df['explanation_cumsum'] = explanation_sum \n",
    "    \n",
    "    #\n",
    "    test_df['delta_prior_question_elapsed_time'] = delta_prior_question_elapsed_time \n",
    "    \n",
    "  \n",
    " \n",
    "    test_df[\"attempt_no\"] = test_df[[\"user_id\", \"content_id\"]].apply(lambda row: get_max_attempt(row[\"user_id\"], row[\"content_id\"]), axis=1)\n",
    "    test_df[\"lagtime\"]=lagtime\n",
    "    test_df[\"lagtime_mean\"]=lagtime_mean\n",
    "\n",
    "    test_df['user_correctness'].fillna( 1, inplace=True)\n",
    "    test_df['attempt_no'].fillna(1, inplace=True)\n",
    "    #\n",
    "    test_df.fillna(0, inplace=True)\n",
    "    \n",
    "\n",
    "    test_df['timestamp']=test_df['timestamp']/(1000*3600)\n",
    "    test_df.timestamp=test_df.timestamp.astype('int16')\n",
    "\n",
    "\n",
    "    sub_preds = np.zeros(test_df.shape[0])\n",
    "    for i, model in enumerate(clfs, 1):\n",
    "        test_preds  = model.predict(test_df[features])\n",
    "        sub_preds += test_preds\n",
    "    #HDKIM\n",
    "    #test_df[target] = sub_preds / len(clfs) #HDKIM\n",
    "    \n",
    "    lgbm_final = sub_preds / len(clfs)   \n",
    "    test_df[target] = np.array(SAKT_outs) * 0.4 + lgbm_final * 0.6\n",
    "    #HDKIMHDKIM\n",
    "\n",
    "    env.predict(test_df[['row_id', target]])"
   ]
  }
 ],
 "metadata": {
  "kernelspec": {
   "display_name": "Python 3",
   "language": "python",
   "name": "python3"
  },
  "language_info": {
   "codemirror_mode": {
    "name": "ipython",
    "version": 3
   },
   "file_extension": ".py",
   "mimetype": "text/x-python",
   "name": "python",
   "nbconvert_exporter": "python",
   "pygments_lexer": "ipython3",
   "version": "3.7.6"
  },
  "papermill": {
   "duration": 1783.668031,
   "end_time": "2020-12-15T08:16:12.064993",
   "environment_variables": {},
   "exception": null,
   "input_path": "__notebook__.ipynb",
   "output_path": "__notebook__.ipynb",
   "parameters": {},
   "start_time": "2020-12-15T07:46:28.396962",
   "version": "2.1.0"
  }
 },
 "nbformat": 4,
 "nbformat_minor": 4
}
